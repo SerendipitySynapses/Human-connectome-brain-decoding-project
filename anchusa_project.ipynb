{
  "cells": [
    {
      "cell_type": "markdown",
      "metadata": {
        "id": "dfBri3miK74A"
      },
      "source": [
        "# Imports and config\n",
        "\n",
        "Run this first to setup the notebook."
      ]
    },
    {
      "cell_type": "code",
      "execution_count": 2,
      "metadata": {
        "colab": {
          "base_uri": "https://localhost:8080/"
        },
        "id": "aPhR-cNxBN94",
        "outputId": "92822af0-cb35-417f-cc20-4a5711f3faaa"
      },
      "outputs": [],
      "source": [
        "# install and import\n",
        "\n",
        "import os\n",
        "import numpy as np\n",
        "import matplotlib.pyplot as plt\n",
        "import os, requests, tarfile\n",
        "import pandas as pd\n",
        "\n",
        "# Necessary for visualization\n",
        "from nilearn import plotting, datasets\n",
        "from nilearn.surface import vol_to_surf\n",
        "\n",
        "%matplotlib inline\n",
        "%config InlineBackend.figure_format = 'retina'\n",
        "plt.style.use(\"https://raw.githubusercontent.com/NeuromatchAcademy/course-content/master/nma.mplstyle\")\n",
        "# The download cells will store the data in nested directories starting here:\n",
        "HCP_DIR = \"./DATA\"\n",
        "if not os.path.isdir(HCP_DIR):\n",
        "  os.mkdir(HCP_DIR)\n",
        "\n",
        "# filepaths for convinience\n",
        "fpath_task = os.path.join(HCP_DIR, \"hcp_task\")\n",
        "fpath_rest = os.path.join(HCP_DIR, \"hcp_rest\")\n",
        "\n",
        "# The data shared for NMA projects is a subset of the full HCP dataset\n",
        "N_SUBJECTS = 339\n",
        "\n",
        "# The data have already been aggregated into ROIs from the Glasesr parcellation\n",
        "N_PARCELS = 360\n",
        "\n",
        "# The acquisition parameters for all tasks were identical\n",
        "TR = 0.72  # Time resolution, in sec\n",
        "\n",
        "# The parcels are matched across hemispheres with the same order\n",
        "HEMIS = [\"Right\", \"Left\"]\n",
        "\n",
        "# Each experiment was repeated multiple times in each subject\n",
        "N_RUNS_REST = 4\n",
        "N_RUNS_TASK = 2\n",
        "\n",
        "# Time series data are organized by experiment, with each experiment\n",
        "# having an LR and RL (phase-encode direction) acquistion\n",
        "BOLD_NAMES = [\n",
        "  \"rfMRI_REST1_LR\", \"rfMRI_REST1_RL\",\n",
        "  \"rfMRI_REST2_LR\", \"rfMRI_REST2_RL\",\n",
        "  \"tfMRI_MOTOR_RL\", \"tfMRI_MOTOR_LR\",\n",
        "  \"tfMRI_WM_RL\", \"tfMRI_WM_LR\",\n",
        "  \"tfMRI_EMOTION_RL\", \"tfMRI_EMOTION_LR\",\n",
        "  \"tfMRI_GAMBLING_RL\", \"tfMRI_GAMBLING_LR\",\n",
        "  \"tfMRI_LANGUAGE_RL\", \"tfMRI_LANGUAGE_LR\",\n",
        "  \"tfMRI_RELATIONAL_RL\", \"tfMRI_RELATIONAL_LR\",\n",
        "  \"tfMRI_SOCIAL_RL\", \"tfMRI_SOCIAL_LR\"\n",
        "]\n",
        "\n",
        "# You may want to limit the subjects used during code development.\n",
        "# This will use all subjects:\n",
        "subjects = range(N_SUBJECTS)"
      ]
    },
    {
      "cell_type": "markdown",
      "metadata": {
        "id": "uwU_M9FtHbws"
      },
      "source": [
        "# Put functions here\n",
        "\n",
        "If you make a couple of lines of code that does something, it's good to wrap it in a function so that it can be re-used elsewhere. Let's put all of our functions here so that the actual analysis is as clean and readable as possible. Remember to add [docstrings](https://www.datacamp.com/tutorial/docstrings-python) to your functions so we can use them without looking at source code!"
      ]
    },
    {
      "cell_type": "code",
      "execution_count": 3,
      "metadata": {
        "id": "sKBISi4-wdPB"
      },
      "outputs": [],
      "source": [
        "def download_data():\n",
        "  \"\"\"Download the HCP dataset.\"\"\"\n",
        "\n",
        "  fnames = [\"hcp_rest.tgz\",\n",
        "            \"hcp_task.tgz\",\n",
        "            \"hcp_covariates.tgz\",\n",
        "            \"atlas.npz\"]\n",
        "  urls = [\"https://osf.io/bqp7m/download\",\n",
        "          \"https://osf.io/s4h8j/download\",\n",
        "          \"https://osf.io/x5p4g/download\",\n",
        "          \"https://osf.io/j5kuc/download\"]\n",
        "\n",
        "\n",
        "  for fname, url in zip(fnames, urls):\n",
        "    if not os.path.isfile(fname):\n",
        "      try:\n",
        "        r = requests.get(url)\n",
        "      except requests.ConnectionError:\n",
        "        print(\"!!! Failed to download data !!!\")\n",
        "      else:\n",
        "        if r.status_code != requests.codes.ok:\n",
        "          print(\"!!! Failed to download data !!!\")\n",
        "        else:\n",
        "          print(f\"Downloading {fname}...\")\n",
        "          with open(fname, \"wb\") as fid:\n",
        "            fid.write(r.content)\n",
        "          print(f\"Download {fname} completed!\")\n",
        "\n",
        "\n",
        "  fnames = [\"hcp_covariates\", \"hcp_rest\", \"hcp_task\"]\n",
        "\n",
        "  for fname in fnames:\n",
        "    # open file\n",
        "    path_name = os.path.join(HCP_DIR, fname)\n",
        "    if not os.path.exists(path_name):\n",
        "      print(f\"Extracting {fname}.tgz...\")\n",
        "      with tarfile.open(f\"{fname}.tgz\") as fzip:\n",
        "        fzip.extractall(HCP_DIR)\n",
        "    else:\n",
        "      print(f\"File {fname}.tgz has already been extracted.\")\n",
        "\n",
        "\n",
        "def load_regions_and_atlas():\n",
        "  \"\"\"Load region info and parcellations.\n",
        "\n",
        "    Args:\n",
        "      None\n",
        "    Returns:\n",
        "      Tuple containing:\n",
        "        region_info (dict): region names and network assignments\n",
        "        atlas (dict): parcellation on the fsaverage5 surface and approximate MNI coordinates of each region\n",
        "  \"\"\"\n",
        "  folder = os.path.join(HCP_DIR, \"hcp_task\")  # choose the data directory\n",
        "  regions = np.load(os.path.join(folder, \"regions.npy\")).T\n",
        "  region_info = dict(name=regions[0].tolist(),\n",
        "                    network=regions[1],\n",
        "                    myelin=regions[2].astype(float)\n",
        "                    )\n",
        "  with np.load(f\"atlas.npz\") as dobj:\n",
        "    atlas = dict(**dobj)\n",
        "\n",
        "  return region_info, atlas\n",
        "\n",
        "\n",
        "def read_behavior_data(kind, output_type=\"pandas\"):\n",
        "    \"\"\"Read behavior data from HCP dataset.\n",
        "\n",
        "    Args:\n",
        "        kind (str): \"gambling\", \"language\", \"emotion\", \"relational\", \"social\" or \"wm\",\n",
        "        output_type (str): Sets the output dataframe format. Can be \"numpy\" or \"pandas\". Default is \"pandas\".\n",
        "    Returns:\n",
        "         wm_behavior (np.ndarray or pandas DataFrame): behavior data\n",
        "    \"\"\"\n",
        "    fpath = os.path.join(HCP_DIR, \"hcp\", \"behavior\", f\"{kind}.csv\")\n",
        "\n",
        "    if output_type == \"numpy\":\n",
        "        wm_behavior = np.genfromtxt(fpath,\n",
        "                                delimiter=\",\",\n",
        "                                names=True,\n",
        "                                dtype=None,\n",
        "                                encoding=\"utf\")\n",
        "\n",
        "    elif output_type == \"pandas\":\n",
        "        import pandas as pd\n",
        "        wm_behavior = pd.read_csv(fpath)\n",
        "\n",
        "    return wm_behavior\n",
        "\n",
        "\n",
        "def get_image_ids(name):\n",
        "  \"\"\"Get the 1-based image indices for runs in a given experiment.\n",
        "\n",
        "    Args:\n",
        "      name (str) : Name of experiment (\"rest\" or name of task) to load\n",
        "    Returns:\n",
        "      run_ids (list of int) : Numeric ID for experiment image files\n",
        "\n",
        "  \"\"\"\n",
        "  run_ids = [\n",
        "             i for i, code in enumerate(BOLD_NAMES, 1) if name.upper() in code\n",
        "             ]\n",
        "  if not run_ids:\n",
        "    raise ValueError(f\"Found no data for '{name}'\")\n",
        "  return run_ids\n",
        "\n",
        "\n",
        "def load_timeseries(subject, name, dir,\n",
        "                    runs=None, concat=True, remove_mean=True):\n",
        "  \"\"\"Load timeseries data for a single subject.\n",
        "\n",
        "  Args:\n",
        "    subject (int): 0-based subject ID to load\n",
        "    name (str) : Name of experiment (\"rest\" or name of task) to load\n",
        "    dir (str) : data directory\n",
        "    run (None or int or list of ints): 0-based run(s) of the task to load,\n",
        "      or None to load all runs.\n",
        "    concat (bool) : If True, concatenate multiple runs in time\n",
        "    remove_mean (bool) : If True, subtract the parcel-wise mean\n",
        "\n",
        "  Returns\n",
        "    ts (n_parcel x n_tp array): Array of BOLD data values\n",
        "\n",
        "  \"\"\"\n",
        "  # Get the list relative 0-based index of runs to use\n",
        "  if runs is None:\n",
        "    runs = range(N_RUNS_REST) if name == \"rest\" else range(N_RUNS_TASK)\n",
        "  elif isinstance(runs, int):\n",
        "    runs = [runs]\n",
        "\n",
        "  # Get the first (1-based) run id for this experiment\n",
        "  offset = get_image_ids(name)[0]\n",
        "\n",
        "  # Load each run's data\n",
        "  bold_data = [\n",
        "               load_single_timeseries(subject,\n",
        "                                      offset + run,\n",
        "                                      dir,\n",
        "                                      remove_mean) for run in runs\n",
        "               ]\n",
        "\n",
        "  # Optionally concatenate in time\n",
        "  if concat:\n",
        "    bold_data = np.concatenate(bold_data, axis=-1)\n",
        "\n",
        "  return bold_data\n",
        "\n",
        "\n",
        "def load_single_timeseries(subject, bold_run, dir, remove_mean=True):\n",
        "  \"\"\"Load timeseries data for a single subject and single run.\n",
        "\n",
        "  Args:\n",
        "    subject (int): 0-based subject ID to load\n",
        "    bold_run (int): 1-based run index, across all tasks\n",
        "    dir (str) : data directory\n",
        "    remove_mean (bool): If True, subtract the parcel-wise mean\n",
        "\n",
        "  Returns\n",
        "    ts (n_parcel x n_timepoint array): Array of BOLD data values\n",
        "\n",
        "  \"\"\"\n",
        "  bold_path = os.path.join(dir, \"subjects\", str(subject), \"timeseries\")\n",
        "  bold_file = f\"bold{bold_run}_Atlas_MSMAll_Glasser360Cortical.npy\"\n",
        "  ts = np.load(os.path.join(bold_path, bold_file))\n",
        "  if remove_mean:\n",
        "    ts -= ts.mean(axis=1, keepdims=True)\n",
        "  return ts\n",
        "\n",
        "\n",
        "def load_evs(subject, name, condition, dir):\n",
        "  \"\"\"Load EV (explanatory variable) data for one task condition.\n",
        "\n",
        "  Args:\n",
        "    subject (int): 0-based subject ID to load\n",
        "    name (str) : Name of task\n",
        "    condition (str) : Name of condition\n",
        "    dir (str) : data directory\n",
        "\n",
        "  Returns\n",
        "    evs (list of dicts): A dictionary with the onset, duration, and amplitude\n",
        "      of the condition for each run.\n",
        "\n",
        "  \"\"\"\n",
        "  evs = []\n",
        "  for id in get_image_ids(name):\n",
        "    task_key = BOLD_NAMES[id - 1]\n",
        "    ev_file = os.path.join(dir, \"subjects\", str(subject), \"EVs\",\n",
        "                           task_key, f\"{condition}.txt\")\n",
        "    ev_array = np.loadtxt(ev_file, ndmin=2, unpack=True)\n",
        "    ev = dict(zip([\"onset\", \"duration\", \"amplitude\"], ev_array))\n",
        "    evs.append(ev)\n",
        "  return evs\n",
        "\n",
        "def condition_frames(run_evs, skip=0):\n",
        "  \"\"\"Identify timepoints corresponding to a given condition in each run.\n",
        "\n",
        "  Args:\n",
        "    run_evs (list of dicts) : Onset and duration of the event, per run\n",
        "    skip (int) : Ignore this many frames at the start of each trial, to account\n",
        "      for hemodynamic lag\n",
        "\n",
        "  Returns:\n",
        "    frames_list (list of 1D arrays): Flat arrays of frame indices, per run\n",
        "\n",
        "  \"\"\"\n",
        "  frames_list = []\n",
        "  for ev in run_evs:\n",
        "\n",
        "    # Determine when trial starts, rounded down\n",
        "    start = np.floor(ev[\"onset\"] / TR).astype(int)\n",
        "\n",
        "    # Use trial duration to determine how many frames to include for trial\n",
        "    duration = np.ceil(ev[\"duration\"] / TR).astype(int)\n",
        "\n",
        "    # Take the range of frames that correspond to this specific trial\n",
        "    frames = [s + np.arange(skip, d) for s, d in zip(start, duration)]\n",
        "\n",
        "    frames_list.append(np.concatenate(frames))\n",
        "\n",
        "  return frames_list\n",
        "\n",
        "\n",
        "def selective_average(timeseries_data, ev, skip=0):\n",
        "  \"\"\"Take the temporal mean across frames for a given condition.\n",
        "\n",
        "  Args:\n",
        "    timeseries_data (array or list of arrays): n_parcel x n_tp arrays\n",
        "    ev (dict or list of dicts): Condition timing information\n",
        "    skip (int) : Ignore this many frames at the start of each trial, to account\n",
        "      for hemodynamic lag\n",
        "\n",
        "  Returns:\n",
        "    avg_data (1D array): Data averagted across selected image frames based\n",
        "    on condition timing\n",
        "\n",
        "  \"\"\"\n",
        "  # Ensure that we have lists of the same length\n",
        "  if not isinstance(timeseries_data, list):\n",
        "    timeseries_data = [timeseries_data]\n",
        "  if not isinstance(ev, list):\n",
        "    ev = [ev]\n",
        "  if len(timeseries_data) != len(ev):\n",
        "    raise ValueError(\"Length of `timeseries_data` and `ev` must match.\")\n",
        "\n",
        "  # Identify the indices of relevant frames\n",
        "  frames = condition_frames(ev, skip)\n",
        "\n",
        "  # Select the frames from each image\n",
        "  selected_data = []\n",
        "  for run_data, run_frames in zip(timeseries_data, frames):\n",
        "    run_frames = run_frames[run_frames < run_data.shape[1]]\n",
        "    selected_data.append(run_data[:, run_frames])\n",
        "\n",
        "  # Take the average in each parcel\n",
        "  avg_data = np.concatenate(selected_data, axis=-1).mean(axis=-1)\n",
        "\n",
        "  return avg_data\n",
        "\n",
        "\n",
        "def seconds_to_samples(sec):\n",
        "  \"\"\"Converts seconds to samples (multiply by TR and floor).\n",
        "  Args:\n",
        "    sec (float): time in seconds\n",
        "  Return:\n",
        "    samples (int): time in samples\n",
        "    \"\"\"\n",
        "  return int(sec * TR)\n",
        "\n",
        "\n",
        "def get_conds(subject, task, conds, concat=False, skip=0):\n",
        "    \"\"\"Get timeseries for conditions of interest.\n",
        "    Args:\n",
        "    subject (int): subject id,\n",
        "    task (string): task id (\"wm\", \"gambling\" etc.)\n",
        "    conds (list): list of conditions to concatenate.\n",
        "    concat (bool): If true, concatenate conditions instead of making a list.\n",
        "    skip (int):  Ignore this many frames at the start of each trial, to account\n",
        "        for hemodynamic lag\n",
        "    Returns:\n",
        "    ndarray (n_parcel x n_tp array) or list of ndarrays: Array of concatenated BOLD data values or a list of (not concatenated) data values.\n",
        "    \"\"\"\n",
        "    # load subject timeseries\n",
        "    ts = load_timeseries(subject, task, fpath_task)\n",
        "\n",
        "    cuts = []\n",
        "    # for each condition\n",
        "    for cond in conds:\n",
        "        # load evs\n",
        "        evs = load_evs(subject, task, cond, fpath_task)\n",
        "\n",
        "        # indexing array\n",
        "        frames = condition_frames(evs, skip=skip)\n",
        "\n",
        "        # for each run\n",
        "        for run in range(len(frames)):\n",
        "\n",
        "            # cut\n",
        "            ts_cut = ts[:, frames[run]]\n",
        "\n",
        "            # append to cuts list\n",
        "            cuts.append(ts_cut)\n",
        "\n",
        "\n",
        "    # Optionally concatenate in time\n",
        "    if concat:\n",
        "        cuts = np.concatenate(cuts, axis=-1)\n",
        "\n",
        "    return cuts\n",
        "\n",
        "\n",
        "def extract_frontoparietal_parcels(two_back, no_back, region_info):\n",
        "    \"\"\"\n",
        "    Extracts the Frontoparietal network parcels from two_back and no_back datasets.\n",
        "\n",
        "    Parameters:\n",
        "    - two_back: List of NumPy arrays, each representing the time series data for a participant\n",
        "                during the two-back task with shape (regions:360, subjects:399).\n",
        "    - no_back: List of NumPy arrays, each representing the time series data for a participant\n",
        "                during the no-back task with shape (regions:360, subjects:399).\n",
        "    - region_info: A dictionary containing region metadata, including network assignments.\n",
        "\n",
        "    Returns:\n",
        "    - two_back_fpn: List of NumPy arrays containing only the Frontoparietal network parcels\n",
        "                     from the two_back dataset. (subjetcs: 339, parcels: 50, timepoints:152)\n",
        "    - no_back_fpn: List of NumPy arrays containing only the Frontoparietal network parcels\n",
        "                    from the no_back dataset. (subjetcs: 339, parcels: 50, timepoints:152)\n",
        "    \"\"\"\n",
        "    # Identify the indices of the 'Frontopariet' network\n",
        "    fpn_network_name = \"Frontopariet\"\n",
        "    fpn_indices = [i for i, network in enumerate(region_info['network']) if network == fpn_network_name]\n",
        "\n",
        "    two_back_fpn = []\n",
        "    no_back_fpn = []\n",
        "\n",
        "    # Extract Frontopariet parcels for two_back\n",
        "    for subject_two_back in two_back:\n",
        "        frontopariet_two_back = subject_two_back[fpn_indices, :]  # Assuming subject_two_back is a numpy array\n",
        "        two_back_fpn.append(frontopariet_two_back)\n",
        "\n",
        "    # Extract Frontopariet parcels for no_back\n",
        "    for subject_no_back in no_back:\n",
        "        frontopariet_no_back = subject_no_back[fpn_indices, :]  # Assuming subject_no_back is a numpy array\n",
        "        no_back_fpn.append(frontopariet_no_back)\n",
        "\n",
        "    return two_back_fpn, no_back_fpn\n",
        "\n",
        "def get_cond_onsets(num_subjects, conditions, fpath_task):\n",
        "    \"\"\"\n",
        "    Extracts the onsets of each condition of each subject\n",
        "\n",
        "    Parameters:\n",
        "    - num_subjects: Integer, from how many subjects you would like to extract the data (maximum=338).\n",
        "    - conditions: List of wm conditions, e.g., ['2bk_body', '2bk_faces',...\n",
        "        ...'2bk_places', '2bk_tools','0bk_body', '0bk_faces', '0bk_places', '0bk_tools']\n",
        "    - fpath_task: path to the event info\n",
        "\n",
        "    Returns:\n",
        "    - Onsets: pandas dataframe containing the onset time per condition,\n",
        "        separated for each run (subject:339 (0 to 338) x condition:16 (2bk_body_run0, 2bk_body_run1, etc.))\n",
        "    \"\"\"\n",
        "    # Initialize an empty DataFrame with NaN values\n",
        "    Onsets = pd.DataFrame(index=[f'{i}' for i in range(num_subjects)])\n",
        "\n",
        "    # Fill the DataFrame with tuples of onset values\n",
        "    for subject_id in range(num_subjects):\n",
        "        for cond in conditions:\n",
        "            ev =load_evs(subject_id, \"wm\", cond, dir=fpath_task)\n",
        "            onset_values = [ev[0]['onset'],ev[1]['onset']]\n",
        "            Onsets.at[f'{subject_id}', f'{cond}_run0'] = onset_values[0]\n",
        "            Onsets.at[f'{subject_id}', f'{cond}_run1'] = onset_values[1]\n",
        "\n",
        "    return Onsets\n",
        "\n",
        "def get_cond_timeseries(num_subjects, conditions, fpath_task, Onsets):\n",
        "    \"\"\"\n",
        "    Extracts the timeseries of each condition of each subject (360 ROI * 38 or 39 timepoints)\n",
        "\n",
        "    Parameters:\n",
        "    - num_subjects: Integer, from how many subjects you would like to extract the data (maximum=338).\n",
        "    - conditions: List of wm conditions, e.g., ['2bk_body', '2bk_faces',...\n",
        "        ...'2bk_places', '2bk_tools','0bk_body', '0bk_faces', '0bk_places', '0bk_tools']\n",
        "    - fpath_task: path to the event info\n",
        "\n",
        "    Returns:\n",
        "    - TimeSeries: pandas dataframe containing the timeseries per condition, separated for each run\n",
        "        (subject:339 (0 to 338) x condition:16 (2bk_body_run0, 2bk_body_run1, etc.)),\n",
        "        each cell of the pd dataframe contains the timeseries of all 360 ROIs\n",
        "    \"\"\"\n",
        "    # Initialize an empty DataFrame with NaN values\n",
        "    TimeSeries = pd.DataFrame(index=[f'{i}' for i in range(num_subjects)],columns=Onsets.columns)\n",
        "\n",
        "    # Fill the DataFrame with tuples of timeseries values\n",
        "    for subject_id in range(num_subjects):\n",
        "        TS =load_timeseries(subject_id, \"wm\", concat=False, remove_mean=True, dir=fpath_task) # get timeseries from both runs\n",
        "        for cond in conditions:\n",
        "            for run in range(1):\n",
        "                onset_values = [Onsets.at[f'{subject_id}', f'{cond}_run0'],Onsets.at[f'{subject_id}', f'{cond}_run1']]\n",
        "                timeframe0=[int(np.floor(onset_values[0]/TR)),int(np.floor((onset_values[0]+27.5)/TR))] # 27.5 = duration in seconds\n",
        "                timeframe1=[int(np.floor(onset_values[1]/TR)),int(np.floor((onset_values[1]+27.5)/TR))]\n",
        "                ts_pd1=pd.DataFrame(index=[str(i) for i in range(360)], columns=[str(i) for i in range(timeframe0[1]-timeframe0[0])]) # rows=ROIs, columns=slices\n",
        "                ts_pd1.iloc[:, :] = TS[0][:,timeframe0[0]:timeframe0[1]]\n",
        "                ts_pd2=pd.DataFrame(index=[str(i) for i in range(360)], columns=[str(i) for i in range(timeframe1[1]-timeframe1[0])])\n",
        "                ts_pd2.iloc[:, :] = TS[1][:,timeframe1[0]:timeframe1[1]]\n",
        "                TimeSeries.at[f'{subject_id}', f'{cond}_run0'] = ts_pd1\n",
        "                TimeSeries.at[f'{subject_id}', f'{cond}_run1'] = ts_pd2\n",
        "\n",
        "    return TimeSeries\n",
        "\n",
        "def get_cond_meanBOLD(num_subjects, conditions, fpath_task, TimeSeries):\n",
        "    \"\"\"\n",
        "    Calculate the mean of BOLD intensity per subject per condition given the\n",
        "        timeseries of each condition of each subject (360 ROI)\n",
        "\n",
        "    Parameters:\n",
        "    - num_subjects: Integer, from how many subjects you would like to extract the data (maximum=338).\n",
        "    - conditions: List of wm conditions, e.g., ['2bk_body', '2bk_faces',...\n",
        "        ...'2bk_places', '2bk_tools','0bk_body', '0bk_faces', '0bk_places', '0bk_tools']\n",
        "    - fpath_task: path to the event info\n",
        "    - TimeSeries: pandas dataframe containing the timeseries per condition, separated for each run\n",
        "\n",
        "    Returns:\n",
        "    - BOLD_MEAN: pandas dataframe containing the mean BOLD intensity per condition, separated for each run\n",
        "        (subject:339 (0 to 338) x condition:16 (2bk_body_run0, 2bk_body_run1, etc.)),\n",
        "        each cell of the pd dataframe contains the mean BOLD intensity of all 360 ROIs\n",
        "    \"\"\"\n",
        "    # get mean activation from all ROIs per condition for each subject\n",
        "    # Initialize an empty DataFrame with NaN values\n",
        "    ROI_MEAN = pd.DataFrame(index=[f'{i}' for i in range(num_subjects)],columns=TimeSeries.columns)\n",
        "    # Fill the DataFrame with tuples of mean BOLD intensity\n",
        "    for subject_id in range(num_subjects):\n",
        "        print(subject_id)\n",
        "        for cond in conditions:\n",
        "            #print(cond)\n",
        "            for run in range(2):\n",
        "                ts = TimeSeries.at[f'{subject_id}', f'{cond}_run{run}'] # 360 ROIs * num_of_slices\n",
        "                mean_bold=np.empty(360)\n",
        "                for ROI in range(360):\n",
        "                    mean_bold[ROI]=ts.iloc[ROI,:].mean()\n",
        "                ROI_MEAN.at[f'{subject_id}', f'{cond}_run{run}'] = pd.Series(mean_bold)\n",
        "\n",
        "    return ROI_MEAN\n",
        "\n",
        "def get_cond_networkMean(num_subjects, conditions, ROI_MEAN, region_info):\n",
        "  \"\"\"\n",
        "    Calculate the mean of BOLD intensity in each network per subject per condition given the\n",
        "        mean ROI activation per condition per subject (12 Networks)\n",
        "\n",
        "    Parameters:\n",
        "    - num_subjects: Integer, from how many subjects you would like to extract the data (maximum=338).\n",
        "    - conditions: List of wm conditions, e.g., ['2bk_body', '2bk_faces',...\n",
        "        ...'2bk_places', '2bk_tools','0bk_body', '0bk_faces', '0bk_places', '0bk_tools']\n",
        "    - ROI_MEAN: pandas dataframe containing the mean activation per ROI in each subject and condition\n",
        "    - region_info: dictionary containing the region names and network assignments\n",
        "\n",
        "    Returns:\n",
        "    - Network_MEAN: pandas dataframe containing the mean network activation per condition, separated for each run\n",
        "        (subject:339 (0 to 338) x condition:16 (2bk_body_run0, 2bk_body_run1, etc.)),\n",
        "        each cell of the pd dataframe contains a dictionary of mean ROI activation in each network\n",
        "    \"\"\"\n",
        "\n",
        "  Network_MEAN = pd.DataFrame(index=[f'{i}' for i in range(num_subjects)],columns=ROI_MEAN.columns)\n",
        "\n",
        "  # Get the values associated with the 'network' key\n",
        "  network_names = region_info['network']\n",
        "  unique_network = set(network_names)\n",
        "\n",
        "  # create an empty dictionary to store the roi indices per network\n",
        "  roi_indices = {value: None for value in unique_network}\n",
        "\n",
        "  for network_name in unique_network:\n",
        "      roi_indices[network_name] = [i for i, n in enumerate(region_info['network']) if n == network_name]\n",
        "      #print(f\"Network: {network_name}, Indices: {roi_indices[network_name]}\")\n",
        "\n",
        "  # Fill the DataFrame with tuples of mean ROI activation per network\n",
        "  for subject_id in range(num_subjects):\n",
        "      print(subject_id)\n",
        "      for cond in conditions:\n",
        "          #print(cond)\n",
        "          for run in range(2):\n",
        "              #print(run)\n",
        "              net_dict = {value: None for value in unique_network}\n",
        "              for network_name in roi_indices.keys():\n",
        "                  #print(network_name)\n",
        "                  net_dict[network_name] = ROI_MEAN.at[f'{subject_id}', f'{cond}_run{run}'].iloc[roi_indices[network_name]].mean() # 360 ROIs * num_of_slices\n",
        "              Network_MEAN.at[f'{subject_id}', f'{cond}_run{run}'] = net_dict\n",
        "\n",
        "  return Network_MEAN"
      ]
    },
    {
      "cell_type": "code",
      "execution_count": 7,
      "metadata": {
        "colab": {
          "base_uri": "https://localhost:8080/"
        },
        "id": "TtLqK4ZgsHYY",
        "outputId": "291333d4-4ff6-40d1-dfbc-66ecf1f4a01f"
      },
      "outputs": [
        {
          "name": "stdout",
          "output_type": "stream",
          "text": [
            "open\n",
            "vol_to_surf\n",
            "download_data\n",
            "load_regions_and_atlas\n",
            "read_behavior_data\n",
            "get_image_ids\n",
            "load_timeseries\n",
            "load_single_timeseries\n",
            "load_evs\n",
            "condition_frames\n",
            "selective_average\n",
            "seconds_to_samples\n",
            "get_conds\n",
            "extract_frontoparietal_parcels\n",
            "get_cond_onsets\n",
            "get_cond_timeseries\n",
            "get_cond_meanBOLD\n",
            "get_cond_networkMean\n"
          ]
        }
      ],
      "source": [
        "import inspect\n",
        "# Get a list of all functions defined above\n",
        "function_list = [name for name, obj in globals().items() if inspect.isfunction(obj)]\n",
        "\n",
        "# Print the list of function names\n",
        "for func_name in function_list:\n",
        "    print(func_name)"
      ]
    },
    {
      "cell_type": "markdown",
      "metadata": {
        "id": "wa4FKMax-cIn"
      },
      "source": [
        "# Condition info\n",
        "\n",
        "These are the condition names for each task:\n",
        "\n",
        "```\n",
        "- MOTOR: cue, lf, lh, rf, rh, t\n",
        "- WM:\n",
        "    0bk_body, 0bk_faces, 0bk_nir, 0bk_placed, 0bk_tools,\n",
        "    2bk_body, 2bk_faces, 2bk_nir, 2bk_placed, 2bk_tools,\n",
        "    0bk_cor, 0bk_err,\n",
        "    2bk_cor, 2bk_err,\n",
        "    all_bk_cor, all_bk_err\n",
        "- EMOTION: feat, neutral\n",
        "- GAMBLING: loss, loss_event, win, win_event, neut_event\n",
        "- LANGUAGE:\n",
        "    cue,\n",
        "    math, story\n",
        "    present_math, present_story,\n",
        "    question_math, question_story,\n",
        "    response_math, response_story\n",
        "- RELATIONAL: error, match, relation\n",
        "- SOCIAL: mental_resp, mental, other_resp, rnd\n",
        "```"
      ]
    },
    {
      "cell_type": "markdown",
      "metadata": {
        "id": "hK6McMMyG2Y6"
      },
      "source": [
        "# Run stuff"
      ]
    },
    {
      "cell_type": "code",
      "execution_count": 8,
      "metadata": {
        "colab": {
          "base_uri": "https://localhost:8080/"
        },
        "id": "tTC-WKY1bQ3d",
        "outputId": "f5d3ee24-1016-4bb4-a3d7-4c17d55036b7"
      },
      "outputs": [
        {
          "name": "stdout",
          "output_type": "stream",
          "text": [
            "Downloading hcp_rest.tgz...\n",
            "Download hcp_rest.tgz completed!\n",
            "Downloading hcp_task.tgz...\n",
            "Download hcp_task.tgz completed!\n",
            "Downloading hcp_covariates.tgz...\n",
            "Download hcp_covariates.tgz completed!\n",
            "Downloading atlas.npz...\n",
            "Download atlas.npz completed!\n",
            "Extracting hcp_covariates.tgz...\n",
            "Extracting hcp_rest.tgz...\n",
            "Extracting hcp_task.tgz...\n"
          ]
        }
      ],
      "source": [
        "# always start with downloading data\n",
        "download_data()"
      ]
    },
    {
      "cell_type": "code",
      "execution_count": 9,
      "metadata": {
        "id": "9l1JgPS7GNM-"
      },
      "outputs": [],
      "source": [
        "# Some example functions\n",
        "\n",
        "region_info, atlas = load_regions_and_atlas()\n",
        "\n",
        "emo_behavior = read_behavior_data(\"emotion\")"
      ]
    },
    {
      "cell_type": "markdown",
      "metadata": {
        "id": "CguCOxIOeEsE"
      },
      "source": [
        "## Region Info & Atlas Exploratory work"
      ]
    },
    {
      "cell_type": "code",
      "execution_count": 10,
      "metadata": {
        "colab": {
          "base_uri": "https://localhost:8080/"
        },
        "id": "lBYNOGIoetlx",
        "outputId": "f918e146-b13a-47b9-d10f-95229a219907"
      },
      "outputs": [
        {
          "name": "stdout",
          "output_type": "stream",
          "text": [
            "Help on function load_regions_and_atlas in module __main__:\n",
            "\n",
            "load_regions_and_atlas()\n",
            "    Load region info and parcellations.\n",
            "\n",
            "    Args:\n",
            "      None\n",
            "    Returns:\n",
            "      Tuple containing:\n",
            "        region_info (dict): region names and network assignments\n",
            "        atlas (dict): parcellation on the fsaverage5 surface and approximate MNI coordinates of each region\n",
            "\n"
          ]
        }
      ],
      "source": [
        "help(load_regions_and_atlas)"
      ]
    },
    {
      "cell_type": "code",
      "execution_count": 11,
      "metadata": {
        "id": "jfb0k2ahntJL"
      },
      "outputs": [],
      "source": [
        "region_info, atlas = load_regions_and_atlas()"
      ]
    },
    {
      "cell_type": "markdown",
      "metadata": {
        "id": "HDWqXG1KZjaT"
      },
      "source": [
        "**Region Info Expl. Work**"
      ]
    },
    {
      "cell_type": "code",
      "execution_count": 12,
      "metadata": {
        "colab": {
          "base_uri": "https://localhost:8080/",
          "height": 206
        },
        "id": "-OxNh7fqTf5E",
        "outputId": "e6817aa3-b1b4-49b5-b33d-79973af7a960"
      },
      "outputs": [
        {
          "data": {
            "text/html": [
              "<div>\n",
              "<style scoped>\n",
              "    .dataframe tbody tr th:only-of-type {\n",
              "        vertical-align: middle;\n",
              "    }\n",
              "\n",
              "    .dataframe tbody tr th {\n",
              "        vertical-align: top;\n",
              "    }\n",
              "\n",
              "    .dataframe thead th {\n",
              "        text-align: right;\n",
              "    }\n",
              "</style>\n",
              "<table border=\"1\" class=\"dataframe\">\n",
              "  <thead>\n",
              "    <tr style=\"text-align: right;\">\n",
              "      <th></th>\n",
              "      <th>name</th>\n",
              "      <th>network</th>\n",
              "      <th>myelin</th>\n",
              "    </tr>\n",
              "  </thead>\n",
              "  <tbody>\n",
              "    <tr>\n",
              "      <th>0</th>\n",
              "      <td>R_V1</td>\n",
              "      <td>Visual1</td>\n",
              "      <td>2.20900</td>\n",
              "    </tr>\n",
              "    <tr>\n",
              "      <th>1</th>\n",
              "      <td>R_MST</td>\n",
              "      <td>Visual2</td>\n",
              "      <td>2.05561</td>\n",
              "    </tr>\n",
              "    <tr>\n",
              "      <th>2</th>\n",
              "      <td>R_V6</td>\n",
              "      <td>Visual2</td>\n",
              "      <td>2.14980</td>\n",
              "    </tr>\n",
              "    <tr>\n",
              "      <th>3</th>\n",
              "      <td>R_V2</td>\n",
              "      <td>Visual2</td>\n",
              "      <td>2.15347</td>\n",
              "    </tr>\n",
              "    <tr>\n",
              "      <th>4</th>\n",
              "      <td>R_V3</td>\n",
              "      <td>Visual2</td>\n",
              "      <td>2.07251</td>\n",
              "    </tr>\n",
              "  </tbody>\n",
              "</table>\n",
              "</div>"
            ],
            "text/plain": [
              "    name  network   myelin\n",
              "0   R_V1  Visual1  2.20900\n",
              "1  R_MST  Visual2  2.05561\n",
              "2   R_V6  Visual2  2.14980\n",
              "3   R_V2  Visual2  2.15347\n",
              "4   R_V3  Visual2  2.07251"
            ]
          },
          "execution_count": 12,
          "metadata": {},
          "output_type": "execute_result"
        }
      ],
      "source": [
        "#make the region info a pd.data frame\n",
        "region_info_pd = pd.DataFrame(region_info)\n",
        "region_info_pd.head(5)"
      ]
    },
    {
      "cell_type": "code",
      "execution_count": 13,
      "metadata": {
        "colab": {
          "base_uri": "https://localhost:8080/"
        },
        "id": "OM2oT3XLuekB",
        "outputId": "ae42ac01-0871-4119-bbb8-2a1eaed0aeb3"
      },
      "outputs": [
        {
          "data": {
            "text/plain": [
              "{'labels_R': array([ 54, 116,  50, ..., 134, 134, 134], dtype=int32),\n",
              " 'labels_L': array([233, 228, 220, ..., 301, 301, 306], dtype=int32),\n",
              " 'coords': array([[ 13.88705062, -79.36989109,   2.95539586],\n",
              "        [ 43.31077929, -65.46435175,   3.65888316],\n",
              "        [ 17.07818631, -76.27357601,  28.4532264 ],\n",
              "        ...,\n",
              "        [-43.66333418,  -6.4398113 , -15.54653597],\n",
              "        [-10.61476522,  29.20779575,  26.91586381],\n",
              "        [ -4.58484419,  34.61082077,  15.00143417]])}"
            ]
          },
          "execution_count": 13,
          "metadata": {},
          "output_type": "execute_result"
        }
      ],
      "source": [
        "atlas"
      ]
    },
    {
      "cell_type": "code",
      "execution_count": 14,
      "metadata": {
        "colab": {
          "base_uri": "https://localhost:8080/"
        },
        "id": "opej_d6_WIlg",
        "outputId": "2e5daf6d-068f-4ced-901c-ee870fb6209c"
      },
      "outputs": [
        {
          "data": {
            "text/plain": [
              "network\n",
              "Posterior-Mu    77\n",
              "Cingulo-Oper    56\n",
              "Visual2         54\n",
              "Frontopariet    50\n",
              "Somatomotor     39\n",
              "Language        23\n",
              "Default         23\n",
              "Auditory        15\n",
              "Dorsal-atten     7\n",
              "Visual1          6\n",
              "Orbito-Affec     6\n",
              "Ventral-Mult     4\n",
              "Name: count, dtype: int64"
            ]
          },
          "execution_count": 14,
          "metadata": {},
          "output_type": "execute_result"
        }
      ],
      "source": [
        "#classic exploratory work\n",
        "region_info_pd['network'].value_counts()\n"
      ]
    },
    {
      "cell_type": "markdown",
      "metadata": {
        "id": "ReVBnxThduFr"
      },
      "source": [
        "**Atlas Exploratory Work**"
      ]
    },
    {
      "cell_type": "code",
      "execution_count": 15,
      "metadata": {
        "colab": {
          "base_uri": "https://localhost:8080/",
          "height": 525
        },
        "id": "2hEMoQ7WZhmy",
        "outputId": "d24721e9-1323-4a57-9545-246ec6111782"
      },
      "outputs": [
        {
          "name": "stdout",
          "output_type": "stream",
          "text": [
            "<class 'dict'>\n",
            "labels_R: <class 'numpy.ndarray'> - [ 54 116  50 ... 134 134 134]\n",
            "labels_L: <class 'numpy.ndarray'> - [233 228 220 ... 301 301 306]\n",
            "coords: <class 'numpy.ndarray'> - [[ 13.88705062 -79.36989109   2.95539586]\n",
            " [ 43.31077929 -65.46435175   3.65888316]\n",
            " [ 17.07818631 -76.27357601  28.4532264 ]\n",
            " ...\n",
            " [-43.66333418  -6.4398113  -15.54653597]\n",
            " [-10.61476522  29.20779575  26.91586381]\n",
            " [ -4.58484419  34.61082077  15.00143417]]\n",
            "atlas[\"labels_R\"].shape: (10242,)\n",
            "atlas[\"labels_L\"].shape: (10242,)\n",
            "atlas[\"coords\"].shape: (360, 3)\n"
          ]
        },
        {
          "data": {
            "text/html": [
              "<div>\n",
              "<style scoped>\n",
              "    .dataframe tbody tr th:only-of-type {\n",
              "        vertical-align: middle;\n",
              "    }\n",
              "\n",
              "    .dataframe tbody tr th {\n",
              "        vertical-align: top;\n",
              "    }\n",
              "\n",
              "    .dataframe thead th {\n",
              "        text-align: right;\n",
              "    }\n",
              "</style>\n",
              "<table border=\"1\" class=\"dataframe\">\n",
              "  <thead>\n",
              "    <tr style=\"text-align: right;\">\n",
              "      <th></th>\n",
              "      <th>labels_R</th>\n",
              "      <th>labels_L</th>\n",
              "      <th>x</th>\n",
              "      <th>y</th>\n",
              "      <th>z</th>\n",
              "    </tr>\n",
              "  </thead>\n",
              "  <tbody>\n",
              "    <tr>\n",
              "      <th>count</th>\n",
              "      <td>10242.000000</td>\n",
              "      <td>10242.000000</td>\n",
              "      <td>360.000000</td>\n",
              "      <td>360.000000</td>\n",
              "      <td>360.000000</td>\n",
              "    </tr>\n",
              "    <tr>\n",
              "      <th>mean</th>\n",
              "      <td>74.895723</td>\n",
              "      <td>239.905292</td>\n",
              "      <td>0.232971</td>\n",
              "      <td>-19.138973</td>\n",
              "      <td>15.676536</td>\n",
              "    </tr>\n",
              "    <tr>\n",
              "      <th>std</th>\n",
              "      <td>55.650470</td>\n",
              "      <td>89.207969</td>\n",
              "      <td>35.276493</td>\n",
              "      <td>39.695339</td>\n",
              "      <td>25.627438</td>\n",
              "    </tr>\n",
              "    <tr>\n",
              "      <th>min</th>\n",
              "      <td>-1.000000</td>\n",
              "      <td>-1.000000</td>\n",
              "      <td>-62.865576</td>\n",
              "      <td>-89.084417</td>\n",
              "      <td>-41.542674</td>\n",
              "    </tr>\n",
              "    <tr>\n",
              "      <th>25%</th>\n",
              "      <td>24.000000</td>\n",
              "      <td>203.000000</td>\n",
              "      <td>-32.730772</td>\n",
              "      <td>-52.996699</td>\n",
              "      <td>-6.106534</td>\n",
              "    </tr>\n",
              "    <tr>\n",
              "      <th>50%</th>\n",
              "      <td>71.000000</td>\n",
              "      <td>252.000000</td>\n",
              "      <td>0.205165</td>\n",
              "      <td>-21.611199</td>\n",
              "      <td>14.244696</td>\n",
              "    </tr>\n",
              "    <tr>\n",
              "      <th>75%</th>\n",
              "      <td>127.000000</td>\n",
              "      <td>306.000000</td>\n",
              "      <td>33.294983</td>\n",
              "      <td>13.148663</td>\n",
              "      <td>37.123880</td>\n",
              "    </tr>\n",
              "    <tr>\n",
              "      <th>max</th>\n",
              "      <td>179.000000</td>\n",
              "      <td>359.000000</td>\n",
              "      <td>64.164492</td>\n",
              "      <td>63.032918</td>\n",
              "      <td>69.800713</td>\n",
              "    </tr>\n",
              "  </tbody>\n",
              "</table>\n",
              "</div>"
            ],
            "text/plain": [
              "           labels_R      labels_L           x           y           z\n",
              "count  10242.000000  10242.000000  360.000000  360.000000  360.000000\n",
              "mean      74.895723    239.905292    0.232971  -19.138973   15.676536\n",
              "std       55.650470     89.207969   35.276493   39.695339   25.627438\n",
              "min       -1.000000     -1.000000  -62.865576  -89.084417  -41.542674\n",
              "25%       24.000000    203.000000  -32.730772  -52.996699   -6.106534\n",
              "50%       71.000000    252.000000    0.205165  -21.611199   14.244696\n",
              "75%      127.000000    306.000000   33.294983   13.148663   37.123880\n",
              "max      179.000000    359.000000   64.164492   63.032918   69.800713"
            ]
          },
          "execution_count": 15,
          "metadata": {},
          "output_type": "execute_result"
        }
      ],
      "source": [
        "#Transofrming atlas directly to a pd.DataFrame gives me an error, let's inspect why.\n",
        "\n",
        "print(type(atlas))\n",
        "\n",
        "for key, value in atlas.items():\n",
        "  print(f\"{key}: {type(value)} - {value}\")\n",
        "\n",
        "#It gives an error because it is a multidimensional array in coords.\n",
        "print(\"atlas[\\\"labels_R\\\"].shape:\", atlas[\"labels_L\"].shape)\n",
        "print(\"atlas[\\\"labels_L\\\"].shape:\", atlas[\"labels_L\"].shape)\n",
        "print(\"atlas[\\\"coords\\\"].shape:\", atlas[\"coords\"].shape)\n",
        "\n",
        "# Indeed coords has shape (360, 3). Let's unpack it to transofrm it into a pd.DataFrame for comodity later.\n",
        "# Probably coords corresponds to coordinates, and the fact that it has three dimensions means x, y, z.\n",
        "# So let's unpack it into these three.\n",
        "\n",
        "coords = pd.DataFrame(atlas['coords'], columns=['x', 'y', 'z'])\n",
        "\n",
        "#Let's also create two DataFrames for the other labels\n",
        "\n",
        "labels = pd.DataFrame({\n",
        "    'labels_R': atlas['labels_R'],\n",
        "    'labels_L': atlas['labels_L']\n",
        "})\n",
        "\n",
        "# Let's then concatenate and form a final pd.DataFrame\n",
        "\n",
        "atlas_pd = pd.concat([labels, coords], axis=1)\n",
        "\n",
        "atlas_pd.describe()"
      ]
    },
    {
      "cell_type": "markdown",
      "metadata": {
        "id": "vB0AMhz8egMK"
      },
      "source": [
        "## Working Memory Task exploratory work"
      ]
    },
    {
      "cell_type": "code",
      "execution_count": 16,
      "metadata": {
        "colab": {
          "base_uri": "https://localhost:8080/"
        },
        "id": "pLNORdkaew9D",
        "outputId": "ee776a15-0177-43cd-e55d-39e1d69880f7"
      },
      "outputs": [
        {
          "name": "stdout",
          "output_type": "stream",
          "text": [
            "Help on function read_behavior_data in module __main__:\n",
            "\n",
            "read_behavior_data(kind, output_type='pandas')\n",
            "    Read behavior data from HCP dataset.\n",
            "\n",
            "    Args:\n",
            "        kind (str): \"gambling\", \"language\", \"emotion\", \"relational\", \"social\" or \"wm\",\n",
            "        output_type (str): Sets the output dataframe format. Can be \"numpy\" or \"pandas\". Default is \"pandas\".\n",
            "    Returns:\n",
            "         wm_behavior (np.ndarray or pandas DataFrame): behavior data\n",
            "\n"
          ]
        }
      ],
      "source": [
        "help(read_behavior_data)"
      ]
    },
    {
      "cell_type": "code",
      "execution_count": 17,
      "metadata": {
        "colab": {
          "base_uri": "https://localhost:8080/"
        },
        "id": "__ImRVaEesdH",
        "outputId": "3dc5f9ab-ce8e-492a-d3da-7f9a5a8424fb"
      },
      "outputs": [
        {
          "name": "stdout",
          "output_type": "stream",
          "text": [
            "<class 'pandas.core.frame.DataFrame'>\n"
          ]
        }
      ],
      "source": [
        "wm_behavior = read_behavior_data(\"wm\")\n",
        "print(type(wm_behavior))"
      ]
    },
    {
      "cell_type": "code",
      "execution_count": 18,
      "metadata": {
        "colab": {
          "base_uri": "https://localhost:8080/"
        },
        "id": "M4h0VBN8JcrG",
        "outputId": "83b7b8c8-bbf2-4da7-8b49-12e1e53edc4a"
      },
      "outputs": [
        {
          "name": "stdout",
          "output_type": "stream",
          "text": [
            "<class 'pandas.core.frame.DataFrame'>\n",
            "RangeIndex: 5382 entries, 0 to 5381\n",
            "Data columns (total 9 columns):\n",
            " #   Column               Non-Null Count  Dtype  \n",
            "---  ------               --------------  -----  \n",
            " 0   Subject              5382 non-null   int64  \n",
            " 1   Run                  5382 non-null   int64  \n",
            " 2   ConditionName        5382 non-null   object \n",
            " 3   ACC                  5382 non-null   float64\n",
            " 4   ACC_NONTARGET        5376 non-null   float64\n",
            " 5   ACC_TARGET           5382 non-null   float64\n",
            " 6   MEDIAN_RT            5376 non-null   float64\n",
            " 7   MEDIAN_RT_NONTARGET  5373 non-null   float64\n",
            " 8   MEDIAN_RT_TARGET     4894 non-null   float64\n",
            "dtypes: float64(6), int64(2), object(1)\n",
            "memory usage: 378.6+ KB\n"
          ]
        }
      ],
      "source": [
        "wm_behavior.info()"
      ]
    },
    {
      "cell_type": "code",
      "execution_count": 19,
      "metadata": {
        "colab": {
          "base_uri": "https://localhost:8080/",
          "height": 300
        },
        "id": "nvnvLXZjKAGO",
        "outputId": "9c14772e-f96a-47cb-c1d2-007158a89a67"
      },
      "outputs": [
        {
          "data": {
            "text/html": [
              "<div>\n",
              "<style scoped>\n",
              "    .dataframe tbody tr th:only-of-type {\n",
              "        vertical-align: middle;\n",
              "    }\n",
              "\n",
              "    .dataframe tbody tr th {\n",
              "        vertical-align: top;\n",
              "    }\n",
              "\n",
              "    .dataframe thead th {\n",
              "        text-align: right;\n",
              "    }\n",
              "</style>\n",
              "<table border=\"1\" class=\"dataframe\">\n",
              "  <thead>\n",
              "    <tr style=\"text-align: right;\">\n",
              "      <th></th>\n",
              "      <th>Subject</th>\n",
              "      <th>Run</th>\n",
              "      <th>ACC</th>\n",
              "      <th>ACC_NONTARGET</th>\n",
              "      <th>ACC_TARGET</th>\n",
              "      <th>MEDIAN_RT</th>\n",
              "      <th>MEDIAN_RT_NONTARGET</th>\n",
              "      <th>MEDIAN_RT_TARGET</th>\n",
              "    </tr>\n",
              "  </thead>\n",
              "  <tbody>\n",
              "    <tr>\n",
              "      <th>count</th>\n",
              "      <td>5382.000000</td>\n",
              "      <td>5382.000000</td>\n",
              "      <td>5382.000000</td>\n",
              "      <td>5376.000000</td>\n",
              "      <td>5382.000000</td>\n",
              "      <td>5376.000000</td>\n",
              "      <td>5373.000000</td>\n",
              "      <td>4894.000000</td>\n",
              "    </tr>\n",
              "    <tr>\n",
              "      <th>mean</th>\n",
              "      <td>168.880342</td>\n",
              "      <td>0.500000</td>\n",
              "      <td>0.887769</td>\n",
              "      <td>0.910280</td>\n",
              "      <td>0.809365</td>\n",
              "      <td>861.748326</td>\n",
              "      <td>869.721292</td>\n",
              "      <td>872.043318</td>\n",
              "    </tr>\n",
              "    <tr>\n",
              "      <th>std</th>\n",
              "      <td>97.799125</td>\n",
              "      <td>0.500046</td>\n",
              "      <td>0.152766</td>\n",
              "      <td>0.143950</td>\n",
              "      <td>0.322284</td>\n",
              "      <td>241.638974</td>\n",
              "      <td>254.814939</td>\n",
              "      <td>276.054963</td>\n",
              "    </tr>\n",
              "    <tr>\n",
              "      <th>min</th>\n",
              "      <td>0.000000</td>\n",
              "      <td>0.000000</td>\n",
              "      <td>0.100000</td>\n",
              "      <td>0.000000</td>\n",
              "      <td>0.000000</td>\n",
              "      <td>291.000000</td>\n",
              "      <td>291.000000</td>\n",
              "      <td>75.000000</td>\n",
              "    </tr>\n",
              "    <tr>\n",
              "      <th>25%</th>\n",
              "      <td>84.250000</td>\n",
              "      <td>0.000000</td>\n",
              "      <td>0.800000</td>\n",
              "      <td>0.833333</td>\n",
              "      <td>0.500000</td>\n",
              "      <td>676.000000</td>\n",
              "      <td>675.000000</td>\n",
              "      <td>665.500000</td>\n",
              "    </tr>\n",
              "    <tr>\n",
              "      <th>50%</th>\n",
              "      <td>169.000000</td>\n",
              "      <td>0.500000</td>\n",
              "      <td>1.000000</td>\n",
              "      <td>1.000000</td>\n",
              "      <td>1.000000</td>\n",
              "      <td>821.500000</td>\n",
              "      <td>828.500000</td>\n",
              "      <td>815.000000</td>\n",
              "    </tr>\n",
              "    <tr>\n",
              "      <th>75%</th>\n",
              "      <td>253.750000</td>\n",
              "      <td>1.000000</td>\n",
              "      <td>1.000000</td>\n",
              "      <td>1.000000</td>\n",
              "      <td>1.000000</td>\n",
              "      <td>1005.500000</td>\n",
              "      <td>1023.500000</td>\n",
              "      <td>1023.500000</td>\n",
              "    </tr>\n",
              "    <tr>\n",
              "      <th>max</th>\n",
              "      <td>338.000000</td>\n",
              "      <td>1.000000</td>\n",
              "      <td>1.000000</td>\n",
              "      <td>1.000000</td>\n",
              "      <td>1.000000</td>\n",
              "      <td>1839.000000</td>\n",
              "      <td>1839.000000</td>\n",
              "      <td>1978.000000</td>\n",
              "    </tr>\n",
              "  </tbody>\n",
              "</table>\n",
              "</div>"
            ],
            "text/plain": [
              "           Subject          Run          ACC  ACC_NONTARGET   ACC_TARGET  \\\n",
              "count  5382.000000  5382.000000  5382.000000    5376.000000  5382.000000   \n",
              "mean    168.880342     0.500000     0.887769       0.910280     0.809365   \n",
              "std      97.799125     0.500046     0.152766       0.143950     0.322284   \n",
              "min       0.000000     0.000000     0.100000       0.000000     0.000000   \n",
              "25%      84.250000     0.000000     0.800000       0.833333     0.500000   \n",
              "50%     169.000000     0.500000     1.000000       1.000000     1.000000   \n",
              "75%     253.750000     1.000000     1.000000       1.000000     1.000000   \n",
              "max     338.000000     1.000000     1.000000       1.000000     1.000000   \n",
              "\n",
              "         MEDIAN_RT  MEDIAN_RT_NONTARGET  MEDIAN_RT_TARGET  \n",
              "count  5376.000000          5373.000000       4894.000000  \n",
              "mean    861.748326           869.721292        872.043318  \n",
              "std     241.638974           254.814939        276.054963  \n",
              "min     291.000000           291.000000         75.000000  \n",
              "25%     676.000000           675.000000        665.500000  \n",
              "50%     821.500000           828.500000        815.000000  \n",
              "75%    1005.500000          1023.500000       1023.500000  \n",
              "max    1839.000000          1839.000000       1978.000000  "
            ]
          },
          "execution_count": 19,
          "metadata": {},
          "output_type": "execute_result"
        }
      ],
      "source": [
        "wm_behavior.describe()"
      ]
    },
    {
      "cell_type": "code",
      "execution_count": 20,
      "metadata": {
        "colab": {
          "base_uri": "https://localhost:8080/",
          "height": 519
        },
        "id": "TlnYD1E6JFaV",
        "outputId": "9d10055f-8fbb-4924-99e7-961c23b045e4"
      },
      "outputs": [
        {
          "data": {
            "text/html": [
              "<div>\n",
              "<style scoped>\n",
              "    .dataframe tbody tr th:only-of-type {\n",
              "        vertical-align: middle;\n",
              "    }\n",
              "\n",
              "    .dataframe tbody tr th {\n",
              "        vertical-align: top;\n",
              "    }\n",
              "\n",
              "    .dataframe thead th {\n",
              "        text-align: right;\n",
              "    }\n",
              "</style>\n",
              "<table border=\"1\" class=\"dataframe\">\n",
              "  <thead>\n",
              "    <tr style=\"text-align: right;\">\n",
              "      <th></th>\n",
              "      <th>Subject</th>\n",
              "      <th>Run</th>\n",
              "      <th>ConditionName</th>\n",
              "      <th>ACC</th>\n",
              "      <th>ACC_NONTARGET</th>\n",
              "      <th>ACC_TARGET</th>\n",
              "      <th>MEDIAN_RT</th>\n",
              "      <th>MEDIAN_RT_NONTARGET</th>\n",
              "      <th>MEDIAN_RT_TARGET</th>\n",
              "    </tr>\n",
              "  </thead>\n",
              "  <tbody>\n",
              "    <tr>\n",
              "      <th>0</th>\n",
              "      <td>0</td>\n",
              "      <td>0</td>\n",
              "      <td>0BK_BODY</td>\n",
              "      <td>1.00</td>\n",
              "      <td>1.000000</td>\n",
              "      <td>1.0</td>\n",
              "      <td>705.5</td>\n",
              "      <td>740.5</td>\n",
              "      <td>696.0</td>\n",
              "    </tr>\n",
              "    <tr>\n",
              "      <th>1</th>\n",
              "      <td>0</td>\n",
              "      <td>0</td>\n",
              "      <td>0BK_FACE</td>\n",
              "      <td>1.00</td>\n",
              "      <td>1.000000</td>\n",
              "      <td>1.0</td>\n",
              "      <td>779.5</td>\n",
              "      <td>765.0</td>\n",
              "      <td>915.0</td>\n",
              "    </tr>\n",
              "    <tr>\n",
              "      <th>2</th>\n",
              "      <td>0</td>\n",
              "      <td>0</td>\n",
              "      <td>0BK_PLACE</td>\n",
              "      <td>1.00</td>\n",
              "      <td>1.000000</td>\n",
              "      <td>1.0</td>\n",
              "      <td>926.0</td>\n",
              "      <td>993.5</td>\n",
              "      <td>811.5</td>\n",
              "    </tr>\n",
              "    <tr>\n",
              "      <th>3</th>\n",
              "      <td>0</td>\n",
              "      <td>0</td>\n",
              "      <td>0BK_TOOL</td>\n",
              "      <td>1.00</td>\n",
              "      <td>1.000000</td>\n",
              "      <td>1.0</td>\n",
              "      <td>807.5</td>\n",
              "      <td>807.5</td>\n",
              "      <td>807.5</td>\n",
              "    </tr>\n",
              "    <tr>\n",
              "      <th>4</th>\n",
              "      <td>0</td>\n",
              "      <td>0</td>\n",
              "      <td>2BK_BODY</td>\n",
              "      <td>1.00</td>\n",
              "      <td>1.000000</td>\n",
              "      <td>1.0</td>\n",
              "      <td>1133.0</td>\n",
              "      <td>1205.5</td>\n",
              "      <td>732.5</td>\n",
              "    </tr>\n",
              "    <tr>\n",
              "      <th>5</th>\n",
              "      <td>0</td>\n",
              "      <td>0</td>\n",
              "      <td>2BK_FACE</td>\n",
              "      <td>1.00</td>\n",
              "      <td>1.000000</td>\n",
              "      <td>1.0</td>\n",
              "      <td>1308.5</td>\n",
              "      <td>1350.5</td>\n",
              "      <td>1064.5</td>\n",
              "    </tr>\n",
              "    <tr>\n",
              "      <th>6</th>\n",
              "      <td>0</td>\n",
              "      <td>0</td>\n",
              "      <td>2BK_PLACE</td>\n",
              "      <td>1.00</td>\n",
              "      <td>1.000000</td>\n",
              "      <td>1.0</td>\n",
              "      <td>1016.0</td>\n",
              "      <td>1016.0</td>\n",
              "      <td>1097.0</td>\n",
              "    </tr>\n",
              "    <tr>\n",
              "      <th>7</th>\n",
              "      <td>0</td>\n",
              "      <td>0</td>\n",
              "      <td>2BK_TOOL</td>\n",
              "      <td>0.75</td>\n",
              "      <td>0.666667</td>\n",
              "      <td>1.0</td>\n",
              "      <td>892.0</td>\n",
              "      <td>892.0</td>\n",
              "      <td>915.5</td>\n",
              "    </tr>\n",
              "    <tr>\n",
              "      <th>8</th>\n",
              "      <td>0</td>\n",
              "      <td>1</td>\n",
              "      <td>0BK_BODY</td>\n",
              "      <td>1.00</td>\n",
              "      <td>1.000000</td>\n",
              "      <td>1.0</td>\n",
              "      <td>1117.0</td>\n",
              "      <td>1117.0</td>\n",
              "      <td>1350.0</td>\n",
              "    </tr>\n",
              "    <tr>\n",
              "      <th>9</th>\n",
              "      <td>0</td>\n",
              "      <td>1</td>\n",
              "      <td>0BK_FACE</td>\n",
              "      <td>1.00</td>\n",
              "      <td>1.000000</td>\n",
              "      <td>1.0</td>\n",
              "      <td>806.5</td>\n",
              "      <td>806.5</td>\n",
              "      <td>755.5</td>\n",
              "    </tr>\n",
              "    <tr>\n",
              "      <th>10</th>\n",
              "      <td>0</td>\n",
              "      <td>1</td>\n",
              "      <td>0BK_PLACE</td>\n",
              "      <td>1.00</td>\n",
              "      <td>1.000000</td>\n",
              "      <td>1.0</td>\n",
              "      <td>799.0</td>\n",
              "      <td>779.0</td>\n",
              "      <td>820.0</td>\n",
              "    </tr>\n",
              "    <tr>\n",
              "      <th>11</th>\n",
              "      <td>0</td>\n",
              "      <td>1</td>\n",
              "      <td>0BK_TOOL</td>\n",
              "      <td>1.00</td>\n",
              "      <td>1.000000</td>\n",
              "      <td>1.0</td>\n",
              "      <td>877.0</td>\n",
              "      <td>926.5</td>\n",
              "      <td>649.5</td>\n",
              "    </tr>\n",
              "    <tr>\n",
              "      <th>12</th>\n",
              "      <td>0</td>\n",
              "      <td>1</td>\n",
              "      <td>2BK_BODY</td>\n",
              "      <td>0.75</td>\n",
              "      <td>0.666667</td>\n",
              "      <td>1.0</td>\n",
              "      <td>1009.5</td>\n",
              "      <td>999.0</td>\n",
              "      <td>1139.5</td>\n",
              "    </tr>\n",
              "    <tr>\n",
              "      <th>13</th>\n",
              "      <td>0</td>\n",
              "      <td>1</td>\n",
              "      <td>2BK_FACE</td>\n",
              "      <td>1.00</td>\n",
              "      <td>1.000000</td>\n",
              "      <td>1.0</td>\n",
              "      <td>1040.5</td>\n",
              "      <td>1060.0</td>\n",
              "      <td>821.5</td>\n",
              "    </tr>\n",
              "    <tr>\n",
              "      <th>14</th>\n",
              "      <td>0</td>\n",
              "      <td>1</td>\n",
              "      <td>2BK_PLACE</td>\n",
              "      <td>1.00</td>\n",
              "      <td>1.000000</td>\n",
              "      <td>1.0</td>\n",
              "      <td>1114.0</td>\n",
              "      <td>1138.0</td>\n",
              "      <td>1076.5</td>\n",
              "    </tr>\n",
              "  </tbody>\n",
              "</table>\n",
              "</div>"
            ],
            "text/plain": [
              "    Subject  Run ConditionName   ACC  ACC_NONTARGET  ACC_TARGET  MEDIAN_RT  \\\n",
              "0         0    0      0BK_BODY  1.00       1.000000         1.0      705.5   \n",
              "1         0    0      0BK_FACE  1.00       1.000000         1.0      779.5   \n",
              "2         0    0     0BK_PLACE  1.00       1.000000         1.0      926.0   \n",
              "3         0    0      0BK_TOOL  1.00       1.000000         1.0      807.5   \n",
              "4         0    0      2BK_BODY  1.00       1.000000         1.0     1133.0   \n",
              "5         0    0      2BK_FACE  1.00       1.000000         1.0     1308.5   \n",
              "6         0    0     2BK_PLACE  1.00       1.000000         1.0     1016.0   \n",
              "7         0    0      2BK_TOOL  0.75       0.666667         1.0      892.0   \n",
              "8         0    1      0BK_BODY  1.00       1.000000         1.0     1117.0   \n",
              "9         0    1      0BK_FACE  1.00       1.000000         1.0      806.5   \n",
              "10        0    1     0BK_PLACE  1.00       1.000000         1.0      799.0   \n",
              "11        0    1      0BK_TOOL  1.00       1.000000         1.0      877.0   \n",
              "12        0    1      2BK_BODY  0.75       0.666667         1.0     1009.5   \n",
              "13        0    1      2BK_FACE  1.00       1.000000         1.0     1040.5   \n",
              "14        0    1     2BK_PLACE  1.00       1.000000         1.0     1114.0   \n",
              "\n",
              "    MEDIAN_RT_NONTARGET  MEDIAN_RT_TARGET  \n",
              "0                 740.5             696.0  \n",
              "1                 765.0             915.0  \n",
              "2                 993.5             811.5  \n",
              "3                 807.5             807.5  \n",
              "4                1205.5             732.5  \n",
              "5                1350.5            1064.5  \n",
              "6                1016.0            1097.0  \n",
              "7                 892.0             915.5  \n",
              "8                1117.0            1350.0  \n",
              "9                 806.5             755.5  \n",
              "10                779.0             820.0  \n",
              "11                926.5             649.5  \n",
              "12                999.0            1139.5  \n",
              "13               1060.0             821.5  \n",
              "14               1138.0            1076.5  "
            ]
          },
          "execution_count": 20,
          "metadata": {},
          "output_type": "execute_result"
        }
      ],
      "source": [
        "wm_behavior.head(15)"
      ]
    },
    {
      "cell_type": "markdown",
      "metadata": {
        "id": "j2KAQ-i4elQ_"
      },
      "source": [
        "## Times series exploratory Work"
      ]
    },
    {
      "cell_type": "code",
      "execution_count": 21,
      "metadata": {
        "colab": {
          "base_uri": "https://localhost:8080/"
        },
        "id": "b6MUPAWJhK_y",
        "outputId": "76f4647c-ff65-4493-f44b-9cadec782367"
      },
      "outputs": [
        {
          "name": "stdout",
          "output_type": "stream",
          "text": [
            "['open', 'vol_to_surf', 'download_data', 'load_regions_and_atlas', 'read_behavior_data', 'get_image_ids', 'load_timeseries', 'load_single_timeseries', 'load_evs', 'condition_frames', 'selective_average', 'seconds_to_samples', 'get_conds', 'extract_frontoparietal_parcels', 'get_cond_onsets', 'get_cond_timeseries', 'get_cond_meanBOLD', 'get_cond_networkMean']\n"
          ]
        }
      ],
      "source": [
        "print(function_list)"
      ]
    },
    {
      "cell_type": "code",
      "execution_count": 22,
      "metadata": {
        "colab": {
          "base_uri": "https://localhost:8080/"
        },
        "id": "ynRTEmhKgqiy",
        "outputId": "5266fec8-788f-49c7-f4b9-ec7c086f2244"
      },
      "outputs": [
        {
          "name": "stdout",
          "output_type": "stream",
          "text": [
            "Help on function load_timeseries in module __main__:\n",
            "\n",
            "load_timeseries(subject, name, dir, runs=None, concat=True, remove_mean=True)\n",
            "    Load timeseries data for a single subject.\n",
            "\n",
            "    Args:\n",
            "      subject (int): 0-based subject ID to load\n",
            "      name (str) : Name of experiment (\"rest\" or name of task) to load\n",
            "      dir (str) : data directory\n",
            "      run (None or int or list of ints): 0-based run(s) of the task to load,\n",
            "        or None to load all runs.\n",
            "      concat (bool) : If True, concatenate multiple runs in time\n",
            "      remove_mean (bool) : If True, subtract the parcel-wise mean\n",
            "\n",
            "    Returns\n",
            "      ts (n_parcel x n_tp array): Array of BOLD data values\n",
            "\n"
          ]
        }
      ],
      "source": [
        "help(load_timeseries)"
      ]
    },
    {
      "cell_type": "code",
      "execution_count": 23,
      "metadata": {
        "colab": {
          "base_uri": "https://localhost:8080/"
        },
        "id": "2W4l6XMZhXGo",
        "outputId": "a1ff32c5-2db5-455e-8beb-18442b2aaa02"
      },
      "outputs": [
        {
          "name": "stdout",
          "output_type": "stream",
          "text": [
            "Help on function load_single_timeseries in module __main__:\n",
            "\n",
            "load_single_timeseries(subject, bold_run, dir, remove_mean=True)\n",
            "    Load timeseries data for a single subject and single run.\n",
            "\n",
            "    Args:\n",
            "      subject (int): 0-based subject ID to load\n",
            "      bold_run (int): 1-based run index, across all tasks\n",
            "      dir (str) : data directory\n",
            "      remove_mean (bool): If True, subtract the parcel-wise mean\n",
            "\n",
            "    Returns\n",
            "      ts (n_parcel x n_timepoint array): Array of BOLD data values\n",
            "\n"
          ]
        }
      ],
      "source": [
        "help(load_single_timeseries)"
      ]
    },
    {
      "cell_type": "code",
      "execution_count": 24,
      "metadata": {
        "colab": {
          "base_uri": "https://localhost:8080/"
        },
        "id": "ZqrAnfCrKOu2",
        "outputId": "b6fa2099-432a-4eb4-c84b-d778812b559d"
      },
      "outputs": [
        {
          "name": "stdout",
          "output_type": "stream",
          "text": [
            "type(ts0): <class 'numpy.ndarray'>\n",
            "ts0.shape: (360, 810)\n",
            "Number of elements in ts0: 291600\n",
            "ts0.dtype: float64\n",
            "[[ -16.91901235  -53.11901235  -54.61901235 ...  -82.17975309\n",
            "   -77.37975309  -89.27975309]\n",
            " [  63.30716049   26.30716049   45.30716049 ...  -46.91111111\n",
            "     6.98888889  -20.51111111]\n",
            " [ 175.83382716   72.73382716   65.23382716 ...  -43.18666667\n",
            "   -57.88666667  -90.68666667]\n",
            " ...\n",
            " [ 137.83901235   59.63901235   53.93901235 ...   18.26518519\n",
            "    13.36518519  -37.43481481]\n",
            " [  53.99753086  -16.20246914  -79.10246914 ... -105.61259259\n",
            "   -96.41259259  -99.71259259]\n",
            " [ -86.74691358 -113.34691358 -129.44691358 ...    5.38666667\n",
            "    23.58666667  -23.41333333]]\n"
          ]
        }
      ],
      "source": [
        "ts0 = load_timeseries(0, \"wm\", fpath_task)\n",
        "\n",
        "print('type(ts0):', type(ts0))\n",
        "print('ts0.shape:', ts0.shape)\n",
        "print('Number of elements in ts0:', ts0.size)\n",
        "print('ts0.dtype:', ts0.dtype)\n",
        "print(ts0)"
      ]
    },
    {
      "cell_type": "code",
      "execution_count": 21,
      "metadata": {
        "id": "oGEDcJbciaRc"
      },
      "outputs": [],
      "source": [
        "#ts0 = load_single_timeseries(0, 1, fpath_task)\n",
        "\n",
        "# have a problem with the directory."
      ]
    },
    {
      "cell_type": "code",
      "execution_count": 25,
      "metadata": {
        "colab": {
          "base_uri": "https://localhost:8080/",
          "height": 609
        },
        "id": "yOk08efOOnLa",
        "outputId": "b83a75da-80aa-4aec-982e-9e25410336d4"
      },
      "outputs": [
        {
          "data": {
            "text/plain": [
              "[<matplotlib.lines.Line2D at 0x149f77230>]"
            ]
          },
          "execution_count": 25,
          "metadata": {},
          "output_type": "execute_result"
        },
        {
          "data": {
            "image/png": "[encoded data removed]",
            "text/plain": [
              "<Figure size 800x600 with 1 Axes>"
            ]
          },
          "metadata": {
            "image/png": {
              "height": 575,
              "width": 775
            }
          },
          "output_type": "display_data"
        }
      ],
      "source": [
        "plt.plot(ts0[0, :])"
      ]
    },
    {
      "cell_type": "code",
      "execution_count": 26,
      "metadata": {
        "colab": {
          "base_uri": "https://localhost:8080/"
        },
        "id": "05HUJfWyGWCg",
        "outputId": "c739f2b1-c988-45e3-bf6f-fdfab7f96a6f"
      },
      "outputs": [
        {
          "name": "stdout",
          "output_type": "stream",
          "text": [
            "Help on function load_timeseries in module __main__:\n",
            "\n",
            "load_timeseries(subject, name, dir, runs=None, concat=True, remove_mean=True)\n",
            "    Load timeseries data for a single subject.\n",
            "\n",
            "    Args:\n",
            "      subject (int): 0-based subject ID to load\n",
            "      name (str) : Name of experiment (\"rest\" or name of task) to load\n",
            "      dir (str) : data directory\n",
            "      run (None or int or list of ints): 0-based run(s) of the task to load,\n",
            "        or None to load all runs.\n",
            "      concat (bool) : If True, concatenate multiple runs in time\n",
            "      remove_mean (bool) : If True, subtract the parcel-wise mean\n",
            "\n",
            "    Returns\n",
            "      ts (n_parcel x n_tp array): Array of BOLD data values\n",
            "\n"
          ]
        }
      ],
      "source": [
        "# curious about a fun? use help()\n",
        "help(load_timeseries)\n"
      ]
    },
    {
      "cell_type": "markdown",
      "metadata": {
        "id": "-ysUANiIOtjR"
      },
      "source": [
        "## Concatenate conditions\n",
        "\n",
        "This can be used to concatenate any number of conditions within any task. Just provide a list of all conditions you wanna concat and task id."
      ]
    },
    {
      "cell_type": "code",
      "execution_count": 27,
      "metadata": {
        "colab": {
          "base_uri": "https://localhost:8080/"
        },
        "id": "_0iJf-Pq-lm1",
        "outputId": "a805dbd8-deec-4e66-f8a4-b0c5dde5e985"
      },
      "outputs": [
        {
          "name": "stdout",
          "output_type": "stream",
          "text": [
            "Help on function get_conds in module __main__:\n",
            "\n",
            "get_conds(subject, task, conds, concat=False, skip=0)\n",
            "    Get timeseries for conditions of interest.\n",
            "    Args:\n",
            "    subject (int): subject id,\n",
            "    task (string): task id (\"wm\", \"gambling\" etc.)\n",
            "    conds (list): list of conditions to concatenate.\n",
            "    concat (bool): If true, concatenate conditions instead of making a list.\n",
            "    skip (int):  Ignore this many frames at the start of each trial, to account\n",
            "        for hemodynamic lag\n",
            "    Returns:\n",
            "    ndarray (n_parcel x n_tp array) or list of ndarrays: Array of concatenated BOLD data values or a list of (not concatenated) data values.\n",
            "\n"
          ]
        }
      ],
      "source": [
        "help(get_conds)"
      ]
    },
    {
      "cell_type": "code",
      "execution_count": 28,
      "metadata": {
        "colab": {
          "base_uri": "https://localhost:8080/"
        },
        "id": "24FZ1gS0OvQ-",
        "outputId": "b827ea69-3497-4e60-ca78-a5d1f5353a84"
      },
      "outputs": [
        {
          "name": "stdout",
          "output_type": "stream",
          "text": [
            "(360, 312)\n"
          ]
        }
      ],
      "source": [
        "# list all 2-back conditions\n",
        "two_back_conds = ['2bk_body', '2bk_faces', '2bk_places', '2bk_tools']\n",
        "\n",
        "# list all 0-back conditions\n",
        "no_back_conds = ['0bk_body', '0bk_faces', '0bk_places', '0bk_tools']\n",
        "\n",
        "two_back, no_back = [], []\n",
        "for s in subjects:\n",
        "  two_back.append(get_conds(s, \"wm\", two_back_conds, concat=True))\n",
        "  no_back.append(get_conds(s, \"wm\", no_back_conds, concat=True))\n",
        "\n",
        "print(two_back[0].shape)"
      ]
    },
    {
      "cell_type": "markdown",
      "metadata": {
        "id": "T82-apeJKZhj"
      },
      "source": [
        "## Extract FPN timeseries"
      ]
    },
    {
      "cell_type": "code",
      "execution_count": 29,
      "metadata": {
        "colab": {
          "base_uri": "https://localhost:8080/"
        },
        "id": "D6CDZdThdz0_",
        "outputId": "fb811080-2a27-4b7a-f036-d620c0cf7cd6"
      },
      "outputs": [
        {
          "name": "stdout",
          "output_type": "stream",
          "text": [
            "Help on function extract_frontoparietal_parcels in module __main__:\n",
            "\n",
            "extract_frontoparietal_parcels(two_back, no_back, region_info)\n",
            "    Extracts the Frontoparietal network parcels from two_back and no_back datasets.\n",
            "\n",
            "    Parameters:\n",
            "    - two_back: List of NumPy arrays, each representing the time series data for a participant\n",
            "                during the two-back task with shape (regions:360, subjects:399).\n",
            "    - no_back: List of NumPy arrays, each representing the time series data for a participant\n",
            "                during the no-back task with shape (regions:360, subjects:399).\n",
            "    - region_info: A dictionary containing region metadata, including network assignments.\n",
            "\n",
            "    Returns:\n",
            "    - two_back_fpn: List of NumPy arrays containing only the Frontoparietal network parcels\n",
            "                     from the two_back dataset. (subjetcs: 339, parcels: 50, timepoints:152)\n",
            "    - no_back_fpn: List of NumPy arrays containing only the Frontoparietal network parcels\n",
            "                    from the no_back dataset. (subjetcs: 339, parcels: 50, timepoints:152)\n",
            "\n"
          ]
        }
      ],
      "source": [
        "## Use the extract_frontoparietal_parcels function\n",
        "help(extract_frontoparietal_parcels)"
      ]
    },
    {
      "cell_type": "code",
      "execution_count": 30,
      "metadata": {
        "id": "fZH8HIFyKmRc"
      },
      "outputs": [],
      "source": [
        "## Uses the extract_frontoparietal_parcels to extract timeseries of parcels belonging to FPN\n",
        "two_back_fpn, no_back_fpn = extract_frontoparietal_parcels(two_back, no_back, region_info)\n"
      ]
    },
    {
      "cell_type": "markdown",
      "metadata": {
        "id": "VeCAX7P5NTPo"
      },
      "source": [
        "## Data Cleaning, slicing etc\n",
        "\n",
        "Subjects whom did not 16 trials:\n",
        " Subject\n",
        "\n",
        "*   329\n",
        "*   143\n",
        "*   81\n",
        "\n",
        "You get two datset for evs:\n",
        "* evs_0bk_mean (336, 5)\n",
        "* evs_2bk_mean (336, 5)\n",
        "\n",
        "And two for wm_behavior\n",
        "\n",
        "* wm_beh_0bk_mean (336, 9)\n",
        "* wm_beh_2bk_mean (336, 9)"
      ]
    },
    {
      "cell_type": "code",
      "execution_count": 31,
      "metadata": {
        "colab": {
          "base_uri": "https://localhost:8080/"
        },
        "id": "r1z9fFUOuYqH",
        "outputId": "d1e06658-94e6-4baf-f3a6-41e66082c896"
      },
      "outputs": [
        {
          "name": "stdout",
          "output_type": "stream",
          "text": [
            "Subjects whom did not 16 trials:\n",
            " Subject\n",
            "329    2\n",
            "143    2\n",
            "81     2\n",
            "Name: count, dtype: int64\n"
          ]
        }
      ],
      "source": [
        "#Subjects who didn't finish the whole task\n",
        "\n",
        "# Step 1: Count the occurrences of each Subject\n",
        "subject_counts = wm_behavior['Subject'].value_counts()\n",
        "\n",
        "# Step 2: Mask to identify subjects that do not appear exactly 16 times\n",
        "subjects_not_16_mask = subject_counts != 16\n",
        "\n",
        "# Step 3: Apply the mask to get subjects not appearing 16 times\n",
        "subjects_not_16 = subject_counts[subjects_not_16_mask]\n",
        "\n",
        "# Step 4: Print these subjects with their counts\n",
        "print('Subjects whom did not 16 trials:\\n', subjects_not_16)"
      ]
    },
    {
      "cell_type": "code",
      "execution_count": 32,
      "metadata": {
        "colab": {
          "base_uri": "https://localhost:8080/",
          "height": 415
        },
        "id": "7DBXCbfnNoKA",
        "outputId": "ce9a76d3-26f6-4956-e320-2d16771def65"
      },
      "outputs": [
        {
          "name": "stdout",
          "output_type": "stream",
          "text": [
            "<class 'pandas.core.frame.DataFrame'>\n",
            "5424\n",
            "(5424, 5)\n"
          ]
        },
        {
          "data": {
            "text/html": [
              "<div>\n",
              "<style scoped>\n",
              "    .dataframe tbody tr th:only-of-type {\n",
              "        vertical-align: middle;\n",
              "    }\n",
              "\n",
              "    .dataframe tbody tr th {\n",
              "        vertical-align: top;\n",
              "    }\n",
              "\n",
              "    .dataframe thead th {\n",
              "        text-align: right;\n",
              "    }\n",
              "</style>\n",
              "<table border=\"1\" class=\"dataframe\">\n",
              "  <thead>\n",
              "    <tr style=\"text-align: right;\">\n",
              "      <th></th>\n",
              "      <th>onset</th>\n",
              "      <th>duration</th>\n",
              "      <th>amplitude</th>\n",
              "      <th>Subject</th>\n",
              "      <th>Condition</th>\n",
              "    </tr>\n",
              "  </thead>\n",
              "  <tbody>\n",
              "    <tr>\n",
              "      <th>0</th>\n",
              "      <td>[107.463]</td>\n",
              "      <td>[27.5]</td>\n",
              "      <td>[1.0]</td>\n",
              "      <td>0</td>\n",
              "      <td>0bk_body</td>\n",
              "    </tr>\n",
              "    <tr>\n",
              "      <th>1</th>\n",
              "      <td>[36.146]</td>\n",
              "      <td>[27.5]</td>\n",
              "      <td>[1.0]</td>\n",
              "      <td>0</td>\n",
              "      <td>0bk_body</td>\n",
              "    </tr>\n",
              "    <tr>\n",
              "      <th>2</th>\n",
              "      <td>[36.159]</td>\n",
              "      <td>[27.5]</td>\n",
              "      <td>[1.0]</td>\n",
              "      <td>0</td>\n",
              "      <td>0bk_faces</td>\n",
              "    </tr>\n",
              "    <tr>\n",
              "      <th>3</th>\n",
              "      <td>[222.057]</td>\n",
              "      <td>[27.5]</td>\n",
              "      <td>[1.0]</td>\n",
              "      <td>0</td>\n",
              "      <td>0bk_faces</td>\n",
              "    </tr>\n",
              "    <tr>\n",
              "      <th>4</th>\n",
              "      <td>[150.579]</td>\n",
              "      <td>[27.5]</td>\n",
              "      <td>[1.0]</td>\n",
              "      <td>0</td>\n",
              "      <td>0bk_places</td>\n",
              "    </tr>\n",
              "    <tr>\n",
              "      <th>5</th>\n",
              "      <td>[250.339]</td>\n",
              "      <td>[27.5]</td>\n",
              "      <td>[1.0]</td>\n",
              "      <td>0</td>\n",
              "      <td>0bk_places</td>\n",
              "    </tr>\n",
              "    <tr>\n",
              "      <th>6</th>\n",
              "      <td>[222.057]</td>\n",
              "      <td>[27.5]</td>\n",
              "      <td>[1.0]</td>\n",
              "      <td>0</td>\n",
              "      <td>0bk_tools</td>\n",
              "    </tr>\n",
              "    <tr>\n",
              "      <th>7</th>\n",
              "      <td>[107.503]</td>\n",
              "      <td>[27.5]</td>\n",
              "      <td>[1.0]</td>\n",
              "      <td>0</td>\n",
              "      <td>0bk_tools</td>\n",
              "    </tr>\n",
              "    <tr>\n",
              "      <th>8</th>\n",
              "      <td>[7.997]</td>\n",
              "      <td>[27.5]</td>\n",
              "      <td>[1.0]</td>\n",
              "      <td>0</td>\n",
              "      <td>2bk_body</td>\n",
              "    </tr>\n",
              "    <tr>\n",
              "      <th>9</th>\n",
              "      <td>[150.593]</td>\n",
              "      <td>[27.5]</td>\n",
              "      <td>[1.0]</td>\n",
              "      <td>0</td>\n",
              "      <td>2bk_body</td>\n",
              "    </tr>\n",
              "  </tbody>\n",
              "</table>\n",
              "</div>"
            ],
            "text/plain": [
              "       onset duration amplitude  Subject   Condition\n",
              "0  [107.463]   [27.5]     [1.0]        0    0bk_body\n",
              "1   [36.146]   [27.5]     [1.0]        0    0bk_body\n",
              "2   [36.159]   [27.5]     [1.0]        0   0bk_faces\n",
              "3  [222.057]   [27.5]     [1.0]        0   0bk_faces\n",
              "4  [150.579]   [27.5]     [1.0]        0  0bk_places\n",
              "5  [250.339]   [27.5]     [1.0]        0  0bk_places\n",
              "6  [222.057]   [27.5]     [1.0]        0   0bk_tools\n",
              "7  [107.503]   [27.5]     [1.0]        0   0bk_tools\n",
              "8    [7.997]   [27.5]     [1.0]        0    2bk_body\n",
              "9  [150.593]   [27.5]     [1.0]        0    2bk_body"
            ]
          },
          "execution_count": 32,
          "metadata": {},
          "output_type": "execute_result"
        }
      ],
      "source": [
        "#Load evs data for all the conditions\n",
        "\n",
        "conds =  ['0bk_body', '0bk_faces', '0bk_places', '0bk_tools','2bk_body', '2bk_faces', '2bk_places', '2bk_tools']\n",
        "\n",
        "evs_data = []\n",
        "\n",
        "for i in range(339):\n",
        "  for x in conds:\n",
        "    evs = load_evs(i, 'wm', x, fpath_task)\n",
        "    evs_df = pd.DataFrame(evs)\n",
        "    evs_df['Subject'] = i\n",
        "    evs_df['Condition'] = x\n",
        "    evs_data.append(evs_df)\n",
        "\n",
        "evs_data = pd.concat(evs_data, ignore_index=True)\n",
        "\n",
        "print(type(evs_data))\n",
        "print(len(evs_data))\n",
        "print(evs_data.shape)\n",
        "evs_data.head(10)\n",
        "\n"
      ]
    },
    {
      "cell_type": "code",
      "execution_count": 33,
      "metadata": {
        "colab": {
          "base_uri": "https://localhost:8080/"
        },
        "id": "Ah-D4YEoqvXV",
        "outputId": "9ff767a1-ee66-4aa0-fe14-cc5a79d681a9"
      },
      "outputs": [
        {
          "name": "stdout",
          "output_type": "stream",
          "text": [
            "16\n",
            "Subjects whom did not 16 trials:\n",
            " Subject\n",
            "329    2\n",
            "143    2\n",
            "81     2\n",
            "Name: count, dtype: int64\n"
          ]
        }
      ],
      "source": [
        "#Something is off.\n",
        "# Count the occurrences of each Subject\n",
        "subject_counts_e = evs_data['Subject'].value_counts()\n",
        "print(subject_counts_e[0])\n",
        "\n",
        "# Mask to identify subjects that do not appear exactly 16 times\n",
        "subjects_not_16_mask_e = subject_counts != 16\n",
        "\n",
        "# Apply the mask to get subjects not appearing 16 times\n",
        "subjects_not_16_e = subject_counts[subjects_not_16_mask]\n",
        "\n",
        "# Print these subjects with their counts\n",
        "print('Subjects whom did not 16 trials:\\n', subjects_not_16_e)"
      ]
    },
    {
      "cell_type": "code",
      "execution_count": 35,
      "metadata": {
        "colab": {
          "base_uri": "https://localhost:8080/"
        },
        "id": "RS-7eCLtrGzf",
        "outputId": "bbfdf60b-eb18-4ad2-c6ab-c581c37b6cd0"
      },
      "outputs": [
        {
          "name": "stdout",
          "output_type": "stream",
          "text": [
            "Index([329, 143, 81], dtype='int64', name='Subject')\n",
            "(5376, 5)\n",
            "<class 'pandas.core.frame.DataFrame'>\n",
            "Shape of evs_0bk: (2688, 5)\n",
            "Shape of evs_2bk: (2688, 5)\n",
            "\n",
            "First few rows of evs_0bk:\n",
            "       onset duration amplitude  Subject   Condition\n",
            "0  [107.463]   [27.5]     [1.0]        0    0bk_body\n",
            "1   [36.146]   [27.5]     [1.0]        0    0bk_body\n",
            "2   [36.159]   [27.5]     [1.0]        0   0bk_faces\n",
            "3  [222.057]   [27.5]     [1.0]        0   0bk_faces\n",
            "4  [150.579]   [27.5]     [1.0]        0  0bk_places\n",
            "\n",
            "First few rows of evs_2bk:\n",
            "        onset duration amplitude  Subject   Condition\n",
            "8     [7.997]   [27.5]     [1.0]        0    2bk_body\n",
            "9   [150.593]   [27.5]     [1.0]        0    2bk_body\n",
            "10  [178.794]   [27.5]     [1.0]        0   2bk_faces\n",
            "11   [79.275]   [27.5]     [1.0]        0   2bk_faces\n",
            "12  [250.219]   [27.5]     [1.0]        0  2bk_places\n",
            "   Subject                 onset duration amplitude Condition\n",
            "0        0  [141.53787499999999]   [27.5]     [1.0]       0bk\n",
            "1        1          [141.726375]   [27.5]     [1.0]       0bk\n",
            "2        2  [141.46699999999998]   [27.5]     [1.0]       0bk\n",
            "3        3  [141.45587500000002]   [27.5]     [1.0]       0bk\n",
            "4        4          [141.840875]   [27.5]     [1.0]       0bk\n",
            "(336, 5)\n",
            "   Subject                 onset duration amplitude Condition\n",
            "0        0  [116.62474999999999]   [27.5]     [1.0]       2bk\n",
            "1        1  [116.75949999999999]   [27.5]     [1.0]       2bk\n",
            "2        2  [116.57724999999998]   [27.5]     [1.0]       2bk\n",
            "3        3          [116.569125]   [27.5]     [1.0]       2bk\n",
            "4        4  [116.85949999999998]   [27.5]     [1.0]       2bk\n",
            "(336, 5)\n"
          ]
        }
      ],
      "source": [
        "# Take off these subjects from evs_data\n",
        "\n",
        "# Get the list of subjects to be excluded\n",
        "subjects_not_16_e = subject_counts[subjects_not_16_mask].index\n",
        "print(subjects_not_16_e)\n",
        "\n",
        "# Create a mask to exclude these subjects from the DataFrame\n",
        "exclude_mask_e = ~evs_data['Subject'].isin(subjects_not_16_e)\n",
        "\n",
        "# Apply the mask to the DataFrame to filter out these subjects\n",
        "evs_data_filtered = evs_data[exclude_mask_e]\n",
        "\n",
        "print(evs_data_filtered .shape)\n",
        "print(type(evs_data_filtered))\n",
        "evs_data_filtered.head(10)\n",
        "\n",
        "# Let's now divide the dataset in 0bk and 2bk\n",
        "\n",
        "# Create boolean masks for 0bk and 2bk conditions\n",
        "mask_0bk = evs_data_filtered['Condition'].str.contains('0bk', case=False)\n",
        "mask_2bk = evs_data_filtered['Condition'].str.contains('2bk', case=False)\n",
        "\n",
        "#  Create separate DataFrames for 0bk and 2bk\n",
        "evs_0bk = evs_data_filtered[mask_0bk].copy()\n",
        "evs_2bk = evs_data_filtered[mask_2bk].copy()\n",
        "\n",
        "# Display the shapes of the new DataFrames\n",
        "print(\"Shape of evs_0bk:\", evs_0bk.shape)\n",
        "print(\"Shape of evs_2bk:\", evs_2bk.shape)\n",
        "\n",
        "print(\"\\nFirst few rows of evs_0bk:\")\n",
        "print(evs_0bk.head())\n",
        "\n",
        "print(\"\\nFirst few rows of evs_2bk:\")\n",
        "print(evs_2bk.head())\n",
        "\n",
        "# Now let's get the mean\n",
        "\n",
        "columns = ['Subject', 'Condition', 'onset', 'duration', 'amplitude']\n",
        "\n",
        "evs_0bk_mean = pd.DataFrame(columns)\n",
        "\n",
        "# Group by Subject and aggregate to find mean onset, duration, and amplitude\n",
        "evs_0bk_mean = evs_0bk.groupby('Subject').agg({\n",
        "    'onset': lambda x: np.mean(x),\n",
        "    'duration': lambda x: np.mean(x),\n",
        "    'amplitude': lambda x: np.mean(x),\n",
        "}).reset_index()\n",
        "\n",
        "# Set Condition to '0bk' for all rows\n",
        "evs_0bk_mean['Condition'] = '0bk'\n",
        "\n",
        "# Print first few rows of evs_0bk_mean\n",
        "print(evs_0bk_mean.head())\n",
        "print(evs_0bk_mean.shape)\n",
        "\n",
        "\n",
        "evs_2bk_mean = pd.DataFrame(columns=columns)\n",
        "\n",
        "# Filter for 2bk conditions in evs_data_filtered\n",
        "mask_2bk = evs_data_filtered['Condition'].str.contains('2bk', case=False)\n",
        "evs_2bk = evs_data_filtered[mask_2bk].copy()\n",
        "\n",
        "# Group by Subject and aggregate to find mean onset, duration, and amplitude\n",
        "evs_2bk_mean = evs_2bk.groupby('Subject').agg({\n",
        "    'onset': lambda x: np.mean(x),\n",
        "    'duration': lambda x: np.mean(x),\n",
        "    'amplitude': lambda x: np.mean(x),\n",
        "}).reset_index()\n",
        "\n",
        "# Set Condition to '2bk' for all rows\n",
        "evs_2bk_mean['Condition'] = '2bk'\n",
        "\n",
        "# Print first few rows of evs_2bk_mean\n",
        "print(evs_2bk_mean.head())\n",
        "print(evs_2bk_mean.shape)"
      ]
    },
    {
      "cell_type": "code",
      "execution_count": 32,
      "metadata": {
        "id": "W_PQnauqrt85"
      },
      "outputs": [],
      "source": [
        "# Let's do the same filtering, splitting and mean getting for the behavior"
      ]
    },
    {
      "cell_type": "code",
      "execution_count": 36,
      "metadata": {
        "colab": {
          "base_uri": "https://localhost:8080/"
        },
        "id": "HYs1lCrgrz9R",
        "outputId": "cdb0b3a6-87cc-4d11-eafd-dddcdbd1e74e"
      },
      "outputs": [
        {
          "name": "stdout",
          "output_type": "stream",
          "text": [
            "(5376, 9)\n",
            "<class 'pandas.core.frame.DataFrame'>\n",
            "Shape wm_beh_0bk: (2688, 9)\n",
            "Shape wm_beh_2bk: (2688, 9)\n",
            "\n",
            "First few rows wm_beh_0bk:\n",
            "   Subject  Run ConditionName  ACC  ACC_NONTARGET  ACC_TARGET  MEDIAN_RT  \\\n",
            "0        0    0      0BK_BODY  1.0            1.0         1.0      705.5   \n",
            "1        0    0      0BK_FACE  1.0            1.0         1.0      779.5   \n",
            "2        0    0     0BK_PLACE  1.0            1.0         1.0      926.0   \n",
            "3        0    0      0BK_TOOL  1.0            1.0         1.0      807.5   \n",
            "8        0    1      0BK_BODY  1.0            1.0         1.0     1117.0   \n",
            "\n",
            "   MEDIAN_RT_NONTARGET  MEDIAN_RT_TARGET  \n",
            "0                740.5             696.0  \n",
            "1                765.0             915.0  \n",
            "2                993.5             811.5  \n",
            "3                807.5             807.5  \n",
            "8               1117.0            1350.0  \n",
            "\n",
            "First few rows wm_beh_2bk:\n",
            "    Subject  Run ConditionName   ACC  ACC_NONTARGET  ACC_TARGET  MEDIAN_RT  \\\n",
            "4         0    0      2BK_BODY  1.00       1.000000         1.0     1133.0   \n",
            "5         0    0      2BK_FACE  1.00       1.000000         1.0     1308.5   \n",
            "6         0    0     2BK_PLACE  1.00       1.000000         1.0     1016.0   \n",
            "7         0    0      2BK_TOOL  0.75       0.666667         1.0      892.0   \n",
            "12        0    1      2BK_BODY  0.75       0.666667         1.0     1009.5   \n",
            "\n",
            "    MEDIAN_RT_NONTARGET  MEDIAN_RT_TARGET  \n",
            "4                1205.5             732.5  \n",
            "5                1350.5            1064.5  \n",
            "6                1016.0            1097.0  \n",
            "7                 892.0             915.5  \n",
            "12                999.0            1139.5  \n",
            "   Subject  Run ConditionName       ACC  ACC_NONTARGET  ACC_TARGET  MEDIAN_RT  \\\n",
            "0        0  0.5           0bk  0.960938       0.947917     1.00000  953.34375   \n",
            "1        1  0.5           0bk  0.984375       0.989583     0.96875  697.31250   \n",
            "2        2  0.5           0bk  0.954688       0.958333     0.93750  762.34375   \n",
            "3        3  0.5           0bk  0.839063       0.940104     0.53125  764.87500   \n",
            "4        4  0.5           0bk  0.720313       0.765625     0.56250  858.43750   \n",
            "\n",
            "   MEDIAN_RT_NONTARGET  MEDIAN_RT_TARGET  \n",
            "0            970.40625        902.156250  \n",
            "1            707.12500        654.750000  \n",
            "2            728.34375        807.093750  \n",
            "3            752.90625        830.800000  \n",
            "4            862.34375        949.115385  \n",
            "(336, 9)\n",
            "   Subject  Run ConditionName       ACC  ACC_NONTARGET  ACC_TARGET  MEDIAN_RT  \\\n",
            "0        0  0.5           2bk  0.921875       0.895833      1.0000  1054.4375   \n",
            "1        1  0.5           2bk  0.968750       0.979167      0.9375   865.5625   \n",
            "2        2  0.5           2bk  0.921875       0.916667      0.9375   940.5625   \n",
            "3        3  0.5           2bk  0.703125       0.895833      0.1250   798.0000   \n",
            "4        4  0.5           2bk  0.765625       0.812500      0.6250   864.0625   \n",
            "\n",
            "   MEDIAN_RT_NONTARGET  MEDIAN_RT_TARGET  \n",
            "0            1073.8750        953.687500  \n",
            "1             890.4375        704.562500  \n",
            "2             891.6875        888.250000  \n",
            "3             793.9375        890.500000  \n",
            "4             865.0000        946.928571  \n",
            "(336, 9)\n"
          ]
        }
      ],
      "source": [
        "#  Get the list of subjects to be excluded\n",
        "subjects_not_16 = subject_counts[subjects_not_16_mask].index\n",
        "\n",
        "# Create a mask to exclude these subjects from the DataFrame\n",
        "exclude_mask = ~wm_behavior['Subject'].isin(subjects_not_16)\n",
        "\n",
        "#  Apply the mask to the DataFrame to filter out these subjects\n",
        "filtered_wm_behavior = wm_behavior[exclude_mask]\n",
        "\n",
        "print(filtered_wm_behavior.shape)\n",
        "print(type(filtered_wm_behavior))\n",
        "filtered_wm_behavior.head(10)\n",
        "\n",
        "\n",
        "#  Create boolean masks for 0bk and 2bk conditions in filtered_wm_behavior\n",
        "mask_0bk = filtered_wm_behavior['ConditionName'].str.contains('0bk', case=False)\n",
        "mask_2bk = filtered_wm_behavior['ConditionName'].str.contains('2bk', case=False)\n",
        "\n",
        "#  Create separate DataFrames for 0bk and 2bk in filtered_wm_behavior\n",
        "wm_beh_0bk = filtered_wm_behavior[mask_0bk].copy()\n",
        "wm_beh_2bk = filtered_wm_behavior[mask_2bk].copy()\n",
        "\n",
        "# Display the shapes of the new DataFrames\n",
        "print(\"Shape wm_beh_0bk:\", wm_beh_0bk.shape)\n",
        "print(\"Shape wm_beh_2bk:\", wm_beh_2bk.shape)\n",
        "\n",
        "print(\"\\nFirst few rows wm_beh_0bk:\")\n",
        "print(wm_beh_0bk.head())\n",
        "\n",
        "print(\"\\nFirst few rows wm_beh_2bk:\")\n",
        "print(wm_beh_2bk.head())\n",
        "\n",
        "\n",
        "# Get the means\n",
        "\n",
        "columns = ['Subject', 'Run', 'ConditionName', 'ACC', 'ACC_NONTARGET', 'ACC_TARGET', 'MEDIAN_RT', 'MEDIAN_RT_NONTARGET', 'MEDIAN_RT_TARGET']\n",
        "\n",
        "# Initialize a DataFrame with the specified columns\n",
        "wm_beh_0bk_mean = pd.DataFrame(columns=columns)\n",
        "\n",
        "# Group by Subject and aggregate to find mean ACC, MEDIAN_RT, etc.\n",
        "wm_beh_0bk_mean = filtered_wm_behavior.groupby('Subject').agg({\n",
        "    'Run': 'mean',\n",
        "    'ACC': 'mean',\n",
        "    'ACC_NONTARGET': 'mean',\n",
        "    'ACC_TARGET': 'mean',\n",
        "    'MEDIAN_RT': 'mean',\n",
        "    'MEDIAN_RT_NONTARGET': 'mean',\n",
        "    'MEDIAN_RT_TARGET': 'mean'\n",
        "}).reset_index()\n",
        "\n",
        "# Set ConditionName to '0bk' for all rows\n",
        "wm_beh_0bk_mean['ConditionName'] = '0bk'\n",
        "\n",
        "# Reorder columns to match the original DataFrame structure\n",
        "wm_beh_0bk_mean = wm_beh_0bk_mean[columns]\n",
        "\n",
        "# Print first few rows of wm_beh_0bk_mean\n",
        "print(wm_beh_0bk_mean.head())\n",
        "print(wm_beh_0bk_mean.shape)\n",
        "\n",
        "\n",
        "# Initialize a DataFrame with the specified columns\n",
        "wm_beh_2bk_mean = pd.DataFrame(columns=columns)\n",
        "\n",
        "# Group by Subject and aggregate to find mean ACC, MEDIAN_RT, etc.\n",
        "wm_beh_2bk_mean = wm_beh_2bk.groupby('Subject').agg({\n",
        "    'Run': 'mean',\n",
        "    'ACC': 'mean',\n",
        "    'ACC_NONTARGET': 'mean',\n",
        "    'ACC_TARGET': 'mean',\n",
        "    'MEDIAN_RT': 'mean',\n",
        "    'MEDIAN_RT_NONTARGET': 'mean',\n",
        "    'MEDIAN_RT_TARGET': 'mean'\n",
        "}).reset_index()\n",
        "\n",
        "# Set ConditionName to '2bk' for all rows\n",
        "wm_beh_2bk_mean['ConditionName'] = '2bk'\n",
        "\n",
        "# Reorder columns to match the original DataFrame structure\n",
        "wm_beh_2bk_mean = wm_beh_2bk_mean[columns]\n",
        "\n",
        "# Print first few rows of wm_beh_2bk_mean\n",
        "print(wm_beh_2bk_mean.head())\n",
        "print(wm_beh_2bk_mean.shape)"
      ]
    },
    {
      "cell_type": "markdown",
      "metadata": {
        "id": "jS2ulBzJngBz"
      },
      "source": [
        "# Model"
      ]
    },
    {
      "cell_type": "markdown",
      "metadata": {
        "id": "_OjTCToqrJH-"
      },
      "source": [
        "##Data Preprocessing"
      ]
    },
    {
      "cell_type": "code",
      "execution_count": 41,
      "metadata": {
        "colab": {
          "base_uri": "https://localhost:8080/"
        },
        "id": "wobiLEwCnm6E",
        "outputId": "4ca3ac11-e5ec-4a28-f170-b3b43bd2e6e6"
      },
      "outputs": [
        {
          "name": "stdout",
          "output_type": "stream",
          "text": [
            "Two-back sequences shape: (24747, 360, 21)\n",
            "No-back sequences shape: (24747, 360, 21)\n"
          ]
        }
      ],
      "source": [
        "\n",
        "# 'two_back' and 'no_back' are the raw BOLD signals with shapes (n_subjects, n_parcels, n_timepoints)\n",
        "\n",
        "# Set parameters for sliding window\n",
        "window_length = int(15 / 0.7)  # Window length in samples\n",
        "step_size = int(3 / 0.7)       # Step size in samples\n",
        "\n",
        "def create_sequences(data, window_length, step_size):\n",
        "    sequences = []\n",
        "    for subject in data:\n",
        "        for start in range(0, subject.shape[1] - window_length, step_size):\n",
        "            end = start + window_length\n",
        "            sequences.append(subject[:, start:end])\n",
        "    return np.array(sequences)\n",
        "\n",
        "two_back_sequences = create_sequences(two_back, window_length, step_size)\n",
        "no_back_sequences = create_sequences(no_back, window_length, step_size)\n",
        "\n",
        "print(\"Two-back sequences shape:\", two_back_sequences.shape)\n",
        "print(\"No-back sequences shape:\", no_back_sequences.shape)\n"
      ]
    },
    {
      "cell_type": "markdown",
      "metadata": {
        "id": "dNwcUN4hrL7q"
      },
      "source": [
        "##Model Implementation"
      ]
    },
    {
      "cell_type": "markdown",
      "metadata": {
        "id": "-JNYS66IvrFx"
      },
      "source": [
        "### Ignored Dependency"
      ]
    },
    {
      "cell_type": "code",
      "execution_count": 2,
      "metadata": {
        "colab": {
          "base_uri": "https://localhost:8080/",
          "height": 211
        },
        "id": "8ZsHzIslrOcF",
        "outputId": "e21cc16a-9b84-44cb-9b89-ad120fa71d64"
      },
      "outputs": [
        {
          "ename": "NameError",
          "evalue": "name 'np' is not defined",
          "output_type": "error",
          "traceback": [
            "\u001b[0;31m---------------------------------------------------------------------------\u001b[0m",
            "\u001b[0;31mNameError\u001b[0m                                 Traceback (most recent call last)",
            "\u001b[0;32m<ipython-input-2-20066d49130c>\u001b[0m in \u001b[0;36m<cell line: 7>\u001b[0;34m()\u001b[0m\n\u001b[1;32m      5\u001b[0m \u001b[0;34m\u001b[0m\u001b[0m\n\u001b[1;32m      6\u001b[0m \u001b[0;31m# Combine the sequences and create labels\u001b[0m\u001b[0;34m\u001b[0m\u001b[0;34m\u001b[0m\u001b[0m\n\u001b[0;32m----> 7\u001b[0;31m \u001b[0mX\u001b[0m \u001b[0;34m=\u001b[0m \u001b[0mnp\u001b[0m\u001b[0;34m.\u001b[0m\u001b[0mconcatenate\u001b[0m\u001b[0;34m(\u001b[0m\u001b[0;34m(\u001b[0m\u001b[0mtwo_back_sequences\u001b[0m\u001b[0;34m,\u001b[0m \u001b[0mno_back_sequences\u001b[0m\u001b[0;34m)\u001b[0m\u001b[0;34m,\u001b[0m \u001b[0maxis\u001b[0m\u001b[0;34m=\u001b[0m\u001b[0;36m0\u001b[0m\u001b[0;34m)\u001b[0m\u001b[0;34m\u001b[0m\u001b[0;34m\u001b[0m\u001b[0m\n\u001b[0m\u001b[1;32m      8\u001b[0m \u001b[0my\u001b[0m \u001b[0;34m=\u001b[0m \u001b[0mnp\u001b[0m\u001b[0;34m.\u001b[0m\u001b[0marray\u001b[0m\u001b[0;34m(\u001b[0m\u001b[0;34m[\u001b[0m\u001b[0;36m1\u001b[0m\u001b[0;34m]\u001b[0m \u001b[0;34m*\u001b[0m \u001b[0mlen\u001b[0m\u001b[0;34m(\u001b[0m\u001b[0mtwo_back_sequences\u001b[0m\u001b[0;34m)\u001b[0m \u001b[0;34m+\u001b[0m \u001b[0;34m[\u001b[0m\u001b[0;36m0\u001b[0m\u001b[0;34m]\u001b[0m \u001b[0;34m*\u001b[0m \u001b[0mlen\u001b[0m\u001b[0;34m(\u001b[0m\u001b[0mno_back_sequences\u001b[0m\u001b[0;34m)\u001b[0m\u001b[0;34m)\u001b[0m\u001b[0;34m\u001b[0m\u001b[0;34m\u001b[0m\u001b[0m\n\u001b[1;32m      9\u001b[0m \u001b[0;34m\u001b[0m\u001b[0m\n",
            "\u001b[0;31mNameError\u001b[0m: name 'np' is not defined"
          ]
        }
      ],
      "source": [
        "import tensorflow as tf\n",
        "from tensorflow.keras.models import Sequential\n",
        "from tensorflow.keras.layers import LSTM, Dense\n",
        "from tensorflow.keras.optimizers import Adam\n",
        "\n",
        "# Combine the sequences and create labels\n",
        "X = np.concatenate((two_back_sequences, no_back_sequences), axis=0)\n",
        "y = np.array([1] * len(two_back_sequences) + [0] * len(no_back_sequences))\n",
        "\n",
        "# Shuffle the data\n",
        "indices = np.arange(X.shape[0])\n",
        "np.random.shuffle(indices)\n",
        "X = X[indices]\n",
        "y = y[indices]\n",
        "\n",
        "# Define LSTM model\n",
        "model = Sequential([\n",
        "    LSTM(64, input_shape=(X.shape[1], X.shape[2]), return_sequences=True),\n",
        "    LSTM(64),\n",
        "    Dense(1, activation='sigmoid')\n",
        "])\n",
        "\n",
        "# Compile the model\n",
        "model.compile(optimizer=Adam(learning_rate=0.001), loss='binary_crossentropy', metrics=['accuracy'])\n",
        "\n",
        "# Train the model\n",
        "history = model.fit(X, y, epochs=10, batch_size=32, validation_split=0.2)\n"
      ]
    },
    {
      "cell_type": "markdown",
      "metadata": {
        "id": "xLbr7JYBvxKf"
      },
      "source": [
        "### Within-subject Dependency"
      ]
    },
    {
      "cell_type": "code",
      "execution_count": 44,
      "metadata": {
        "colab": {
          "base_uri": "https://localhost:8080/",
          "height": 332
        },
        "id": "mA2gWN1PrRcu",
        "outputId": "54efa9ca-2996-40df-d298-ac0126cf0c8b"
      },
      "outputs": [
        {
          "ename": "NameError",
          "evalue": "name 'sequences' is not defined",
          "output_type": "error",
          "traceback": [
            "\u001b[0;31m---------------------------------------------------------------------------\u001b[0m",
            "\u001b[0;31mNameError\u001b[0m                                 Traceback (most recent call last)",
            "\u001b[0;32m<ipython-input-44-eeceb19a0199>\u001b[0m in \u001b[0;36m<cell line: 7>\u001b[0;34m()\u001b[0m\n\u001b[1;32m      5\u001b[0m \u001b[0;31m# Create subject labels\u001b[0m\u001b[0;34m\u001b[0m\u001b[0;34m\u001b[0m\u001b[0m\n\u001b[1;32m      6\u001b[0m \u001b[0mn_subjects\u001b[0m \u001b[0;34m=\u001b[0m \u001b[0mlen\u001b[0m\u001b[0;34m(\u001b[0m\u001b[0mtwo_back\u001b[0m\u001b[0;34m)\u001b[0m\u001b[0;34m\u001b[0m\u001b[0;34m\u001b[0m\u001b[0m\n\u001b[0;32m----> 7\u001b[0;31m \u001b[0msubject_labels\u001b[0m \u001b[0;34m=\u001b[0m \u001b[0mnp\u001b[0m\u001b[0;34m.\u001b[0m\u001b[0mconcatenate\u001b[0m\u001b[0;34m(\u001b[0m\u001b[0;34m[\u001b[0m\u001b[0mnp\u001b[0m\u001b[0;34m.\u001b[0m\u001b[0mfull\u001b[0m\u001b[0;34m(\u001b[0m\u001b[0mlen\u001b[0m\u001b[0;34m(\u001b[0m\u001b[0msequences\u001b[0m\u001b[0;34m)\u001b[0m \u001b[0;34m//\u001b[0m \u001b[0mn_subjects\u001b[0m\u001b[0;34m,\u001b[0m \u001b[0mi\u001b[0m\u001b[0;34m)\u001b[0m \u001b[0;32mfor\u001b[0m \u001b[0mi\u001b[0m \u001b[0;32min\u001b[0m \u001b[0mrange\u001b[0m\u001b[0;34m(\u001b[0m\u001b[0mn_subjects\u001b[0m\u001b[0;34m)\u001b[0m\u001b[0;34m]\u001b[0m\u001b[0;34m)\u001b[0m\u001b[0;34m\u001b[0m\u001b[0;34m\u001b[0m\u001b[0m\n\u001b[0m\u001b[1;32m      8\u001b[0m \u001b[0;34m\u001b[0m\u001b[0m\n\u001b[1;32m      9\u001b[0m \u001b[0;31m# Define the GroupKFold cross-validator\u001b[0m\u001b[0;34m\u001b[0m\u001b[0;34m\u001b[0m\u001b[0m\n",
            "\u001b[0;32m<ipython-input-44-eeceb19a0199>\u001b[0m in \u001b[0;36m<listcomp>\u001b[0;34m(.0)\u001b[0m\n\u001b[1;32m      5\u001b[0m \u001b[0;31m# Create subject labels\u001b[0m\u001b[0;34m\u001b[0m\u001b[0;34m\u001b[0m\u001b[0m\n\u001b[1;32m      6\u001b[0m \u001b[0mn_subjects\u001b[0m \u001b[0;34m=\u001b[0m \u001b[0mlen\u001b[0m\u001b[0;34m(\u001b[0m\u001b[0mtwo_back\u001b[0m\u001b[0;34m)\u001b[0m\u001b[0;34m\u001b[0m\u001b[0;34m\u001b[0m\u001b[0m\n\u001b[0;32m----> 7\u001b[0;31m \u001b[0msubject_labels\u001b[0m \u001b[0;34m=\u001b[0m \u001b[0mnp\u001b[0m\u001b[0;34m.\u001b[0m\u001b[0mconcatenate\u001b[0m\u001b[0;34m(\u001b[0m\u001b[0;34m[\u001b[0m\u001b[0mnp\u001b[0m\u001b[0;34m.\u001b[0m\u001b[0mfull\u001b[0m\u001b[0;34m(\u001b[0m\u001b[0mlen\u001b[0m\u001b[0;34m(\u001b[0m\u001b[0msequences\u001b[0m\u001b[0;34m)\u001b[0m \u001b[0;34m//\u001b[0m \u001b[0mn_subjects\u001b[0m\u001b[0;34m,\u001b[0m \u001b[0mi\u001b[0m\u001b[0;34m)\u001b[0m \u001b[0;32mfor\u001b[0m \u001b[0mi\u001b[0m \u001b[0;32min\u001b[0m \u001b[0mrange\u001b[0m\u001b[0;34m(\u001b[0m\u001b[0mn_subjects\u001b[0m\u001b[0;34m)\u001b[0m\u001b[0;34m]\u001b[0m\u001b[0;34m)\u001b[0m\u001b[0;34m\u001b[0m\u001b[0;34m\u001b[0m\u001b[0m\n\u001b[0m\u001b[1;32m      8\u001b[0m \u001b[0;34m\u001b[0m\u001b[0m\n\u001b[1;32m      9\u001b[0m \u001b[0;31m# Define the GroupKFold cross-validator\u001b[0m\u001b[0;34m\u001b[0m\u001b[0;34m\u001b[0m\u001b[0m\n",
            "\u001b[0;31mNameError\u001b[0m: name 'sequences' is not defined"
          ]
        }
      ],
      "source": [
        "# Handling Within-Subject Dependency\n",
        "\n",
        "from sklearn.model_selection import GroupKFold\n",
        "\n",
        "# Create subject labels\n",
        "n_subjects = len(two_back)\n",
        "subject_labels = np.concatenate([np.full(len(sequences) // n_subjects, i) for i in range(n_subjects)])\n",
        "\n",
        "# Define the GroupKFold cross-validator\n",
        "group_kfold = GroupKFold(n_splits=5)\n",
        "\n",
        "# Initialize lists to store results\n",
        "train_accuracies = []\n",
        "val_accuracies = []\n",
        "\n",
        "# Train the model using GroupKFold cross-validation\n",
        "for train_idx, val_idx in group_kfold.split(X, y, groups=subject_labels):\n",
        "    X_train, X_val = X[train_idx], X[val_idx]\n",
        "    y_train, y_val = y[train_idx], y[val_idx]\n",
        "\n",
        "    model = Sequential([\n",
        "        LSTM(64, input_shape=(X_train.shape[1], X_train.shape[2]), return_sequences=True),\n",
        "        LSTM(64),\n",
        "        Dense(1, activation='sigmoid')\n",
        "    ])\n",
        "\n",
        "    model.compile(optimizer=Adam(learning_rate=0.001), loss='binary_crossentropy', metrics=['accuracy'])\n",
        "\n",
        "    history = model.fit(X_train, y_train, epochs=10, batch_size=32, validation_data=(X_val, y_val), verbose=0)\n",
        "\n",
        "    train_accuracies.append(history.history['accuracy'][-1])\n",
        "    val_accuracies.append(history.history['val_accuracy'][-1])\n",
        "\n",
        "print(\"Train Accuracies:\", train_accuracies)\n",
        "print(\"Validation Accuracies:\", val_accuracies)\n",
        "print(\"Average Train Accuracy:\", np.mean(train_accuracies))\n",
        "print(\"Average Validation Accuracy:\", np.mean(val_accuracies))\n"
      ]
    },
    {
      "cell_type": "markdown",
      "metadata": {
        "id": "0CzW1xY8udnG"
      },
      "source": [
        "## Evaluation"
      ]
    },
    {
      "cell_type": "markdown",
      "metadata": {
        "id": "iW2gT2_FwrFk"
      },
      "source": [
        "##Evaluate on the Test Set"
      ]
    },
    {
      "cell_type": "code",
      "execution_count": 45,
      "metadata": {
        "colab": {
          "base_uri": "https://localhost:8080/",
          "height": 211
        },
        "id": "g6ubsaluuaH8",
        "outputId": "41759327-887f-4d6c-96e8-5243298383ba"
      },
      "outputs": [
        {
          "ename": "NameError",
          "evalue": "name 'X_val' is not defined",
          "output_type": "error",
          "traceback": [
            "\u001b[0;31m---------------------------------------------------------------------------\u001b[0m",
            "\u001b[0;31mNameError\u001b[0m                                 Traceback (most recent call last)",
            "\u001b[0;32m<ipython-input-45-16709609e199>\u001b[0m in \u001b[0;36m<cell line: 4>\u001b[0;34m()\u001b[0m\n\u001b[1;32m      2\u001b[0m \u001b[0;34m\u001b[0m\u001b[0m\n\u001b[1;32m      3\u001b[0m \u001b[0;31m# Predict on validation set\u001b[0m\u001b[0;34m\u001b[0m\u001b[0;34m\u001b[0m\u001b[0m\n\u001b[0;32m----> 4\u001b[0;31m \u001b[0my_pred_prob\u001b[0m \u001b[0;34m=\u001b[0m \u001b[0mmodel\u001b[0m\u001b[0;34m.\u001b[0m\u001b[0mpredict\u001b[0m\u001b[0;34m(\u001b[0m\u001b[0mX_val\u001b[0m\u001b[0;34m)\u001b[0m\u001b[0;34m\u001b[0m\u001b[0;34m\u001b[0m\u001b[0m\n\u001b[0m\u001b[1;32m      5\u001b[0m \u001b[0my_pred\u001b[0m \u001b[0;34m=\u001b[0m \u001b[0;34m(\u001b[0m\u001b[0my_pred_prob\u001b[0m \u001b[0;34m>\u001b[0m \u001b[0;36m0.5\u001b[0m\u001b[0;34m)\u001b[0m\u001b[0;34m.\u001b[0m\u001b[0mastype\u001b[0m\u001b[0;34m(\u001b[0m\u001b[0mint\u001b[0m\u001b[0;34m)\u001b[0m\u001b[0;34m\u001b[0m\u001b[0;34m\u001b[0m\u001b[0m\n\u001b[1;32m      6\u001b[0m \u001b[0;34m\u001b[0m\u001b[0m\n",
            "\u001b[0;31mNameError\u001b[0m: name 'X_val' is not defined"
          ]
        }
      ],
      "source": [
        "from sklearn.metrics import accuracy_score, confusion_matrix, roc_curve, auc\n",
        "\n",
        "# Predict on validation set\n",
        "y_pred_prob = model.predict(X_val)\n",
        "y_pred = (y_pred_prob > 0.5).astype(int)\n",
        "\n",
        "# Calculate accuracy\n",
        "val_accuracy = accuracy_score(y_val, y_pred)\n",
        "print(f\"Validation Accuracy: {val_accuracy:.4f}\")\n"
      ]
    },
    {
      "cell_type": "markdown",
      "metadata": {
        "id": "87gwaLOEwjDu"
      },
      "source": [
        "##Confusion Matrix"
      ]
    },
    {
      "cell_type": "code",
      "execution_count": null,
      "metadata": {
        "id": "ZPsMDVRdwN_C"
      },
      "outputs": [],
      "source": [
        "import matplotlib.pyplot as plt\n",
        "import seaborn as sns\n",
        "\n",
        "# Confusion matrix\n",
        "conf_matrix = confusion_matrix(y_val, y_pred)\n",
        "\n",
        "# Plot confusion matrix\n",
        "plt.figure(figsize=(6, 4))\n",
        "sns.heatmap(conf_matrix, annot=True, fmt=\"d\", cmap=\"Blues\", xticklabels=[\"No Back\", \"Two Back\"], yticklabels=[\"No Back\", \"Two Back\"])\n",
        "plt.xlabel(\"Predicted\")\n",
        "plt.ylabel(\"Actual\")\n",
        "plt.title(\"Confusion Matrix\")\n",
        "plt.show()\n"
      ]
    },
    {
      "cell_type": "markdown",
      "metadata": {
        "id": "EDtLOgoYwe6N"
      },
      "source": [
        "##ROC Curve and AUC"
      ]
    },
    {
      "cell_type": "code",
      "execution_count": null,
      "metadata": {
        "id": "Njyl4UqXwRW1"
      },
      "outputs": [],
      "source": [
        "# Calculate ROC curve and AUC\n",
        "fpr, tpr, _ = roc_curve(y_val, y_pred_prob)\n",
        "roc_auc = auc(fpr, tpr)\n",
        "\n",
        "# Plot ROC curve\n",
        "plt.figure(figsize=(8, 6))\n",
        "plt.plot(fpr, tpr, color='blue', lw=2, label=f'ROC curve (area = {roc_auc:.4f})')\n",
        "plt.plot([0, 1], [0, 1], color='gray', lw=2, linestyle='--')\n",
        "plt.xlim([0.0, 1.0])\n",
        "plt.ylim([0.0, 1.05])\n",
        "plt.xlabel('False Positive Rate')\n",
        "plt.ylabel('True Positive Rate')\n",
        "plt.title('Receiver Operating Characteristic (ROC) Curve')\n",
        "plt.legend(loc=\"lower right\")\n",
        "plt.show()\n"
      ]
    },
    {
      "cell_type": "markdown",
      "metadata": {
        "id": "iti4JFtFwZAL"
      },
      "source": [
        "##Cross-Validation Scores"
      ]
    },
    {
      "cell_type": "code",
      "execution_count": null,
      "metadata": {
        "id": "PVRhNaL_wTq3"
      },
      "outputs": [],
      "source": [
        "from sklearn.model_selection import cross_val_score\n",
        "\n",
        "# Using cross_val_score to evaluate the model\n",
        "cross_val_accuracies = cross_val_score(model, X, y, cv=group_kfold, scoring='accuracy')\n",
        "\n",
        "print(f\"Cross-Validation Accuracies: {cross_val_accuracies}\")\n",
        "print(f\"Average Cross-Validation Accuracy: {cross_val_accuracies.mean():.4f}\")\n"
      ]
    }
  ],
  "metadata": {
    "colab": {
      "collapsed_sections": [
        "xS83J8nc0GgS"
      ],
      "provenance": [],
      "toc_visible": true
    },
    "kernelspec": {
      "display_name": "Python 3",
      "name": "python3"
    },
    "language_info": {
      "codemirror_mode": {
        "name": "ipython",
        "version": 3
      },
      "file_extension": ".py",
      "mimetype": "text/x-python",
      "name": "python",
      "nbconvert_exporter": "python",
      "pygments_lexer": "ipython3",
      "version": "3.12.0"
    }
  },
  "nbformat": 4,
  "nbformat_minor": 0
}
